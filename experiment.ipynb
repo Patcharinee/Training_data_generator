{
 "cells": [
  {
   "cell_type": "code",
   "execution_count": 23,
   "metadata": {},
   "outputs": [
    {
     "name": "stdout",
     "output_type": "stream",
     "text": [
      "start running code\n",
      "done partitioning into elements\n"
     ]
    }
   ],
   "source": [
    "from unstructured.partition.pdf import partition_pdf\n",
    "print(\"start running code\")\n",
    "# Returns a List[Element] present in the pages of the parsed pdf document\n",
    "elements = partition_pdf(\"Scrum methodology.pdf\")\n",
    "print(\"done partitioning into elements\")"
   ]
  },
  {
   "cell_type": "code",
   "execution_count": 24,
   "metadata": {},
   "outputs": [
    {
     "data": {
      "text/plain": [
       "177"
      ]
     },
     "execution_count": 24,
     "metadata": {},
     "output_type": "execute_result"
    }
   ],
   "source": [
    "len(elements)"
   ]
  },
  {
   "cell_type": "code",
   "execution_count": 25,
   "metadata": {},
   "outputs": [
    {
     "name": "stdout",
     "output_type": "stream",
     "text": [
      "Purpose of the Scrum Guide Scrum is a framework for developing, delivering, and sustaining complex products. This Guide contains the definition of Scrum. This definition consists of Scrum’s roles, events, artifacts, and the rules that bind them together. Ken Schwaber and Jeff Sutherland developed Scrum; the Scrum Guide is written and provided by them. Together, they stand behind the Scrum Guide.\n",
      "Definition of Scrum Scrum (n): A framework within which people can address complex adaptive problems, while productively and creatively delivering products of the highest possible value.\n",
      "Scrum is:\n",
      "• Simple to understand • Difficult to master\n",
      "Lightweight\n",
      "Scrum is a process framework that has been used to manage work on complex products since the early 1990s. Scrum is not a process, technique, or definitive method. Rather, it is a framework within which you can employ various processes and techniques. Scrum makes clear the relative efficacy of your product management and work techniques so that you can continuously improve the product, the team, and the working environment.\n",
      "The Scrum framework consists of Scrum Teams and their associated roles, events, artifacts, and rules. Each component within the framework serves a specific purpose and is essential to Scrum’s success and usage.\n",
      "The rules of Scrum bind together the roles, events, and artifacts, governing the relationships and interaction between them. The rules of Scrum are described throughout the body of this document.\n",
      "Specific tactics for using the Scrum framework vary and are described elsewhere.\n",
      "©2017 Ken Schwaber and Jeff Sutherland. Offered for license under the Attribution Share-Alike license of Creative Commons, accessible at http://creativecommons.org/licenses/by-sa/4.0/legalcode and also described in summary form at http://creativecommons.org/licenses/by-sa/4.0/. By utilizing this Scrum Guide, you acknowledge and agree that you have read and agree to be bound by the terms of the Attribution Share-Alike license of Creative Commons.\n",
      "Page | 3\n",
      "Uses of Scrum Scrum was initially developed for managing and developing products. Starting in the early 1990s, Scrum has been used extensively, worldwide, to:\n",
      "1. Research and identify viable markets, technologies, and product capabilities; 2. Develop products and enhancements; 3. Release products and enhancements, as frequently as many times per day; 4. Develop and sustain Cloud (online, secure, on-demand) and other operational environments for product use; and,\n",
      "5. Sustain and renew products.\n",
      "Scrum has been used to develop software, hardware, embedded software, networks of interacting function, autonomous vehicles, schools, government, marketing, managing the operation of organizations and almost everything we use in our daily lives, as individuals and societies.\n",
      "As technology, market, and environmental complexities and their interactions have rapidly increased, Scrum’s utility in dealing with complexity is proven daily.\n",
      "Scrum proved especially effective in iterative and incremental knowledge transfer. Scrum is now widely used for products, services, and the management of the parent organization.\n",
      "The essence of Scrum is a small team of people. The individual team is highly flexible and adaptive. These strengths continue operating in single, several, many, and networks of teams that develop, release, operate and sustain the work and work products of thousands of people. They collaborate and interoperate through sophisticated development architectures and target release environments.\n",
      "When the words “develop” and “development” are used in the Scrum Guide, they refer to complex work, such as those types identified above.\n",
      "Scrum Theory Scrum is founded on empirical process control theory, or empiricism. Empiricism asserts that knowledge comes from experience and making decisions based on what is known. Scrum employs an iterative, incremental approach to optimize predictability and control risk.\n"
     ]
    }
   ],
   "source": [
    "#n=len(elements)\n",
    "n=20\n",
    "for i in range(0,n):\n",
    "    print(elements[i].text)\n",
    "    #print(elements[i].metadata)"
   ]
  },
  {
   "cell_type": "code",
   "execution_count": 26,
   "metadata": {},
   "outputs": [
    {
     "name": "stdout",
     "output_type": "stream",
     "text": [
      "Purpose of the Scrum Guide Scrum is a framework for developing, delivering, and sustaining complex products. This Guide contains the definition of Scrum. This definition consists of Scrum’s roles, events, artifacts, and the rules that bind them together. Ken Schwaber and Jeff Sutherland developed Scrum; the Scrum Guide is written and provided by them. Together, they stand behind the Scrum Guide.\n",
      "\n",
      "Definition of Scrum Scrum (n): A framework within which people can address complex adaptive problems, while productively and creatively delivering products of the highest possible value.\n",
      "\n",
      "Scrum is:\n",
      "\n",
      "• Simple to understand • Difficult to master\n",
      "\n",
      "Lightweight\n",
      "\n",
      "Scrum is a process framework that has been used to manage work on complex products since the early 1990s. Scrum is not a process, technique, or definitive method. Rather, it is a framework within which you can employ various processes and techniques. Scrum makes clear the relative efficacy of your product management and work techniques so that you can continuously improve the product, the team, and the working environment.\n",
      "\n",
      "The Scrum framework consists of Scrum Teams and their associated roles, events, artifacts, and rules. Each component within the framework serves a specific purpose and is essential to Scrum’s success and usage.\n",
      "\n",
      "The rules of Scrum bind together the roles, events, and artifacts, governing the relationships and interaction between them. The rules of Scrum are described throughout the body of this document.\n",
      "\n",
      "Specific tactics for using the Scrum framework vary and are described elsewhere.\n",
      "\n",
      "©2017 Ken Schwaber and Jeff Sutherland. Offered for license under the Attribution Share-Alike license of Creative Commons, accessible at http://creativecommons.org/licenses/by-sa/4.0/legalcode and also described in summary form at http://creativecommons.org/licenses/by-sa/4.0/. By utilizing this Scrum Guide, you acknowledge and agree that you have read and agree to be bound by the terms of the Attribution Share-Alike license of Creative Commons.\n",
      "\n",
      "Page | 3\n",
      "\n",
      "Uses of Scrum Scrum was initially developed for managing and developing products. Starting in the early 1990s, Scrum has been used extensively, worldwide, to:\n",
      "\n",
      "1. Research and identify viable markets, technologies, and product capabilities; 2. Develop products and enhancements; 3. Release products and enhancements, as frequently as many times per day; 4. Develop and sustain Cloud (online, secure, on-demand) and other operational environments for product use; and,\n",
      "\n",
      "5. Sustain and renew products.\n",
      "\n",
      "Scrum has been used to develop software, hardware, embedded software, networks of interacting function, autonomous vehicles, schools, government, marketing, managing the operation of organizations and almost everything we use in our daily lives, as individuals and societies.\n",
      "\n",
      "As technology, market, and environmental complexities and their interactions have rapidly increased, Scrum’s utility in dealing with complexity is proven daily.\n",
      "\n",
      "Scrum proved especially effective in iterative and incremental knowledge transfer. Scrum is now widely used for products, services, and the management of the parent organization.\n",
      "\n",
      "The essence of Scrum is a small team of people. The individual team is highly flexible and adaptive. These strengths continue operating in single, several, many, and networks of teams that develop, release, operate and sustain the work and work products of thousands of people. They collaborate and interoperate through sophisticated development architectures and target release environments.\n",
      "\n",
      "When the words “develop” and “development” are used in the Scrum Guide, they refer to complex work, such as those types identified above.\n",
      "\n",
      "Scrum Theory Scrum is founded on empirical process control theory, or empiricism. Empiricism asserts that knowledge comes from experience and making decisions based on what is known. Scrum employs an iterative, incremental approach to optimize predictability and control risk.\n"
     ]
    }
   ],
   "source": [
    "print(\"\\n\\n\".join([str(el) for el in elements[0:20]]))"
   ]
  },
  {
   "cell_type": "code",
   "execution_count": 27,
   "metadata": {},
   "outputs": [
    {
     "data": {
      "text/plain": [
       "'©2017 Ken Schwaber and Jeff Sutherland. Offered for license under the Attribution Share-Alike license of Creative Commons, accessible at http://creativecommons.org/licenses/by-sa/4.0/legalcode and also described in summary form at http://creativecommons.org/licenses/by-sa/4.0/. By utilizing this Scrum Guide, you acknowledge and agree that you have read and agree to be bound by the terms of the Attribution Share-Alike license of Creative Commons.'"
      ]
     },
     "execution_count": 27,
     "metadata": {},
     "output_type": "execute_result"
    }
   ],
   "source": [
    "elements[9].text"
   ]
  },
  {
   "cell_type": "code",
   "execution_count": 28,
   "metadata": {},
   "outputs": [],
   "source": [
    "from unstructured.chunking.title import chunk_by_title\n",
    "\n",
    "chunks = chunk_by_title(elements)"
   ]
  },
  {
   "cell_type": "code",
   "execution_count": 29,
   "metadata": {},
   "outputs": [
    {
     "data": {
      "text/plain": [
       "118"
      ]
     },
     "execution_count": 29,
     "metadata": {},
     "output_type": "execute_result"
    }
   ],
   "source": [
    "len(chunks)"
   ]
  },
  {
   "cell_type": "code",
   "execution_count": 30,
   "metadata": {},
   "outputs": [
    {
     "name": "stdout",
     "output_type": "stream",
     "text": [
      "0\n",
      "True\n",
      "1\n",
      "False\n",
      "2\n",
      "False\n",
      "3\n",
      "False\n",
      "4\n",
      "False\n",
      "5\n",
      "False\n",
      "6\n",
      "False\n",
      "7\n",
      "False\n",
      "8\n",
      "False\n",
      "9\n",
      "False\n"
     ]
    }
   ],
   "source": [
    "n = 10\n",
    "for i in range(0,n):\n",
    "    print(i)\n",
    "    print(chunks[i].text==elements[i].text)"
   ]
  },
  {
   "cell_type": "code",
   "execution_count": 58,
   "metadata": {},
   "outputs": [
    {
     "name": "stdout",
     "output_type": "stream",
     "text": [
      "partition -- When the words “develop” and “development” are used in the Scrum Guide, they refer to complex work, such as those types identified above.\n",
      "chunk -- Successful use of Scrum depends on people becoming more proficient in living these five values. People personally commit to achieving the goals of the Scrum Team. The Scrum Team members have courage to do the right thing and work on tough problems. Everyone focuses on the work of the Sprint and the goals of the Scrum Team. The Scrum Team and its stakeholders agree to be open about all the work and the challenges with performing the work. Scrum Team members respect each other to be capable,\n"
     ]
    }
   ],
   "source": [
    "#i = 9\n",
    "print(f'partition -- {elements[18]}')\n",
    "print(f'chunk -- {chunks[16]}')"
   ]
  },
  {
   "cell_type": "code",
   "execution_count": 60,
   "metadata": {},
   "outputs": [
    {
     "name": "stdout",
     "output_type": "stream",
     "text": [
      "elements[31]--> Successful use of Scrum depends on people becoming more proficient in living these five values. People personally commit to achieving the goals of the Scrum Team. The Scrum Team members have courage to do the right thing and work on tough problems. Everyone focuses on the work of the Sprint and the goals of the Scrum Team. The Scrum Team and its stakeholders agree to be open about all the work and the challenges with performing the work. Scrum Team members respect each other to be capable, independent people.\n"
     ]
    }
   ],
   "source": []
  },
  {
   "cell_type": "code",
   "execution_count": 62,
   "metadata": {},
   "outputs": [
    {
     "name": "stdout",
     "output_type": "stream",
     "text": [
      "chunk[16]--> Successful use of Scrum depends on people becoming more proficient in living these five values. People personally commit to achieving the goals of the Scrum Team. The Scrum Team members have courage to do the right thing and work on tough problems. Everyone focuses on the work of the Sprint and the goals of the Scrum Team. The Scrum Team and its stakeholders agree to be open about all the work and the challenges with performing the work. Scrum Team members respect each other to be capable,\n",
      "chunk[17]--> independent people.\n",
      "-------------------\n",
      "elements[31]--> Successful use of Scrum depends on people becoming more proficient in living these five values. People personally commit to achieving the goals of the Scrum Team. The Scrum Team members have courage to do the right thing and work on tough problems. Everyone focuses on the work of the Sprint and the goals of the Scrum Team. The Scrum Team and its stakeholders agree to be open about all the work and the challenges with performing the work. Scrum Team members respect each other to be capable, independent people.\n"
     ]
    }
   ],
   "source": [
    "print(f\"chunk[16]--> {chunks[16]}\")\n",
    "print(f\"chunk[17]--> {chunks[17]}\")\n",
    "print(\"-------------------\")\n",
    "print(f\"elements[31]--> {elements[31]}\")"
   ]
  },
  {
   "cell_type": "code",
   "execution_count": 67,
   "metadata": {},
   "outputs": [
    {
     "name": "stdout",
     "output_type": "stream",
     "text": [
      "element lenght: 177  vs.  chunk length: 118\n"
     ]
    }
   ],
   "source": [
    "print(f\"element lenght: {len(elements)}  vs.  chunk length: {len(chunks)}\")"
   ]
  },
  {
   "cell_type": "markdown",
   "metadata": {},
   "source": [
    "chunk strategy by_title has a problem that some chunk is not long enough to fit the whole paragraph.\n",
    "try hires"
   ]
  },
  {
   "cell_type": "code",
   "execution_count": 1,
   "metadata": {},
   "outputs": [
    {
     "name": "stderr",
     "output_type": "stream",
     "text": [
      "d:\\dev\\PyATS\\.venv\\Lib\\site-packages\\tqdm\\auto.py:21: TqdmWarning: IProgress not found. Please update jupyter and ipywidgets. See https://ipywidgets.readthedocs.io/en/stable/user_install.html\n",
      "  from .autonotebook import tqdm as notebook_tqdm\n"
     ]
    },
    {
     "name": "stdout",
     "output_type": "stream",
     "text": [
      "start partitioning\n",
      "done partitioning pdf into elements\n"
     ]
    }
   ],
   "source": [
    "##################this is to chunking the document####################\n",
    "from unstructured.partition.pdf import partition_pdf\n",
    "from unstructured.chunking.title import chunk_by_title\n",
    "\n",
    "print(\"start partitioning\")\n",
    "# Returns a List[Element] present in the pages of the parsed pdf document\n",
    "elements = partition_pdf(\"pyATS_p1_30.pdf\")\n",
    "print(\"done partitioning pdf into elements\")\n",
    "\n",
    "# chunking the elements\n",
    "#specify max characters for each chunk (2**8)*x where x = 4\n",
    "chunks2 = chunk_by_title(elements,max_characters=1024)\n",
    "chunks = chunk_by_title(elements)"
   ]
  },
  {
   "cell_type": "code",
   "execution_count": 140,
   "metadata": {},
   "outputs": [],
   "source": [
    "chunks3 = chunk_by_title(elements,max_characters=(2**8)*4)"
   ]
  },
  {
   "cell_type": "code",
   "execution_count": 141,
   "metadata": {},
   "outputs": [
    {
     "data": {
      "text/plain": [
       "118"
      ]
     },
     "execution_count": 141,
     "metadata": {},
     "output_type": "execute_result"
    }
   ],
   "source": [
    "len(chunks3)"
   ]
  },
  {
   "cell_type": "code",
   "execution_count": 145,
   "metadata": {},
   "outputs": [
    {
     "name": "stdout",
     "output_type": "stream",
     "text": [
      "elements len : 393  chunk2_withmax_768 len : 171     chunks_no_max_limit len : 263   chunks_1024_max len : 118\n",
      "chunks_1024_max[100]\n",
      "Quality\n",
      "\n",
      "Above speed and agility, the number-one driver for NetDevOps is the quality of solu- tions. According to a recent Uptime Institute survey, “How to avoid outages: Try harder!,” 70–75% of data center failures are caused by human error, producing a chain effect of downtime. Additionally, more than 30% of IT services and data center operators experi- ence downtime or severe degradation of service. Also, 10% of the survey respondents reported that their most recent incident cost them more than $1 million. Elimination of human errors using NetDevOps methodology and automation tools like pyATS is the number-one driving factor for the adoption of IaC solutions. While moving faster and with more agility is definitely beneficial to the business, the reduction of human errors, and thus network outages, is paramount to a successful NetDevOps implementation.\n",
      "chunks_1024_max[101]\n",
      "Comparing Network Automation Tools\n",
      "\n",
      "Along with culture and software development lifecycle methodology changes, NetDevOps brings new tools to the network engineer’s toolkit. For 40 years, most engi- neers have had a few simple tools, including a terminal client and a text editor, to perform their day-to-day tasks to configure, validate, document, and test their networks. Over the past 5 years, the number of new tools has exploded, dramatically simplifying, and at the same time complicating, the role of a network engineer:\n",
      "\n",
      "■ Agent-based tools: Agent-based tools require software to be installed onto the net- work device, acting as an agent for remote commands. Tools like Puppet, Chef, and Salt Stack are examples of popular network automation tools that require an agent.\n",
      "\n",
      "ptg45047941\n",
      "\n",
      "From the Library of Tos Chaiwong\n",
      "chunks_1024_max[102]\n",
      "22 Chapter 1: Foundations of NetDevOps\n",
      "\n",
      "A centralized controller communicates using an agent protocol to the agents deployed into the network devices. Agent-based tools have lower bandwidth requirements, are perceived as more secure, and have a central point of management with the trade-off of performance, cost, and deployments times.\n",
      "chunks_1024_max[103]\n",
      "■ Agentless tools: In contrast with agent-based tools, agentless tools use protocols like SSH and HTTPS from distributed systems to perform their automation tasks. Nothing needs to be installed on the network devices to enable agentless automation tools. There is no centralized controller, and typically costs and complexity are dras- tically reduced. Ansible has become an extremely popular network automation tool, partly because it is agentless. Performance, costs, and deployment time are all bene- fits of agentless network automation tools. pyATS is an agentless tool requiring only SSH, Telnet, or HTTP/HTTPS access to a network device. pyATS testing can even be performed against offline JSON files without any connection to the device at all.\n",
      "chunks_1024_max[104]\n",
      "The Modern Network Engineer Toolkit\n",
      "\n",
      "In addition to network automation tools, agent or agentless, the modern network engi- neer’s toolkit includes many additional tools and technologies to perform NetDevOps tasks. Gone are the days of having a simple terminal client and text editor; network engi- neers must embrace the growing landscape of tools in order to approach problem-solving as a software developer that simplifies their roles and increases quality, time to delivery, and agility. The sections that follow look at the various tools and technologies that should be part of every modern network engineer’s toolkit.\n",
      "\n",
      "Integrated Development Environment\n",
      "\n",
      "Infrastructure as code implicitly requires NetDevOps to write code. While a simple text editor could be used, an integrated development environment (IDE) will help network engineers write quality code with a superior experience. In this book, we will be using Visual Studio Code (VS Code) as the IDE of choice; however, many alternatives are available.\n",
      "chunks_1024_max[105]\n",
      "“Old School”\n",
      "\n",
      "Historically, simple text editors like Notepad were used to draft configuration changes and to consume network state from the command line offline. The historical text editor is quite limited in its capabilities and functionality. With the advent of new structured data types such as JSON and YAML, as well as the need to write code in software languages like Python and JavaScript, using a plain text editor leads to poor quality code with syn- tax and indentation errors (particularly in YAML and Python) that will not compile or execute properly. Users are forced to manually detect these flaws, often using time- consuming trial and error approaches. Classic text editors are also not aware of version\n",
      "\n",
      "ptg45047941\n",
      "\n",
      "From the Library of Tos Chaiwong\n",
      "chunks_1024_max[106]\n",
      "The Modern Network Engineer Toolkit 23\n",
      "\n",
      "and source control, and cannot preview rendered output such as Markdown or Comma- Separated Values (CSV) files, which require another tool to view in their rendered state. Working directly with “raw” text is the only capability of a legacy text editor.\n",
      "\n",
      "“New School”\n",
      "chunks_1024_max[107]\n",
      "IDEs such as VS Code take text editing and writing infrastructure as code to the next level. Built-in linting (syntax and code quality checks) provides immediate feedback. The IDE will proactively, automatically, help the author create quality code. Malformed code with indentation errors is highlighted and underlined in red, directly telling the code author the code has problems and will not compile. VS Code is highly extensible with thousands of extensions to enhance the experience of working with, for example, Python, adding linting for .py files. The editor can be split into vertical and horizontal panels, allowing for direct side-by-side comparison and the ability to work in multiple locations of the same file. VS Code also provides previews that render raw text, such as Markdown or CSV, directly in the editor, providing developers the ability to see what and how their code renders in its final state. One of the most important capabilities of VS Code is that it integrates with Git version and source\n",
      "chunks_1024_max[108]\n",
      "control. Git commands are abstract- ed from the developer, who can use point-and-click capabilities to work with the version and source control system. VS Code also integrates with Windows Subsystem for Linux (WSL) and provides various terminals and shells, including Bourne Again Shell (bash), Windows terminal, and Ubuntu Linux shell. Remote SSH capabilities, allowing the IDE to connect to remote devices, can be added as an extension. Extensions for Docker and Kubernetes exist, making it easier to work with these platforms in the visually integrated IDE. Regardless of whether the developer uses VS Code or another platform, an IDE is critical and foundational to adopting NetDevOps.\n",
      "chunks_1024_max[109]\n",
      "Git\n",
      "\n",
      "Git is a free, open-source, and distributed version control system created by Linus Torvalds in 2005 for development of the Linux kernel. Consider Git the glue that holds the NetDevOps lifecycle together, tracking all changes to files using commits. These tracked changes are included in the history of all Git repositories, and changes can be rolled back to any point in time. A distributed version control system, the full repository is cloned to a developer’s local workstation. Git is very lightweight, portable, and inte- grates with VS Code. Version and source control is a key foundational element of auto- mating a network with NetDevOps. Easy to learn yet extremely powerful, Git version- controls the lifecycle of pyATS jobs, tests, intent, and template code. Git commit history makes it easy to understand exactly what changed, under what branch, and by which developer. Artifacts can also be rolled back to a previous point in time using the commit history.\n",
      "\n",
      "ptg45047941\n",
      "\n",
      "From the Library of Tos Chaiwong\n"
     ]
    }
   ],
   "source": [
    "print(f\"elements len : {len(elements)}  chunk2_withmax_768 len : {len(chunks2)}     chunks_no_max_limit len : {len(chunks)}   chunks_1024_max len : {len(chunks3)}\")\n",
    "n = 10\n",
    "j = 100\n",
    "for i in range(0,n):\n",
    "    #print(f\"chunk2_withmax_768[{i+j}]\")\n",
    "    #print(f\"{chunks2[i+j].text}\")\n",
    "    #print(f\"chunks_no_max_limit[{i+j}]\")\n",
    "    #print(f\"{chunks[i+j].text}\")\n",
    "    #print(\"element\")\n",
    "    #print(f\"{elements[i+j].text}\")\n",
    "    print(f\"chunks_1024_max[{i+j}]\")\n",
    "    print(f\"{chunks3[i+j].text}\")\n"
   ]
  },
  {
   "cell_type": "code",
   "execution_count": 147,
   "metadata": {},
   "outputs": [
    {
     "data": {
      "text/plain": [
       "866"
      ]
     },
     "execution_count": 147,
     "metadata": {},
     "output_type": "execute_result"
    }
   ],
   "source": [
    "len(chunks3[100].text)"
   ]
  },
  {
   "cell_type": "code",
   "execution_count": 2,
   "metadata": {},
   "outputs": [
    {
     "ename": "NameError",
     "evalue": "name 'chunks3' is not defined",
     "output_type": "error",
     "traceback": [
      "\u001b[1;31m---------------------------------------------------------------------------\u001b[0m",
      "\u001b[1;31mNameError\u001b[0m                                 Traceback (most recent call last)",
      "Cell \u001b[1;32mIn[2], line 1\u001b[0m\n\u001b[1;32m----> 1\u001b[0m \u001b[43mchunks3\u001b[49m[\u001b[38;5;241m102\u001b[39m]\u001b[38;5;241m.\u001b[39mtext\n",
      "\u001b[1;31mNameError\u001b[0m: name 'chunks3' is not defined"
     ]
    }
   ],
   "source": [
    "chunks3[102].text"
   ]
  },
  {
   "cell_type": "code",
   "execution_count": 150,
   "metadata": {},
   "outputs": [
    {
     "name": "stdout",
     "output_type": "stream",
     "text": [
      "start partitioning\n"
     ]
    },
    {
     "ename": "PDFInfoNotInstalledError",
     "evalue": "Unable to get page count. Is poppler installed and in PATH?",
     "output_type": "error",
     "traceback": [
      "\u001b[1;31m---------------------------------------------------------------------------\u001b[0m",
      "\u001b[1;31mFileNotFoundError\u001b[0m                         Traceback (most recent call last)",
      "File \u001b[1;32md:\\dev\\PyATS\\.venv\\Lib\\site-packages\\pdf2image\\pdf2image.py:581\u001b[0m, in \u001b[0;36mpdfinfo_from_path\u001b[1;34m(pdf_path, userpw, ownerpw, poppler_path, rawdates, timeout, first_page, last_page)\u001b[0m\n\u001b[0;32m    580\u001b[0m     env[\u001b[38;5;124m\"\u001b[39m\u001b[38;5;124mLD_LIBRARY_PATH\u001b[39m\u001b[38;5;124m\"\u001b[39m] \u001b[38;5;241m=\u001b[39m poppler_path \u001b[38;5;241m+\u001b[39m \u001b[38;5;124m\"\u001b[39m\u001b[38;5;124m:\u001b[39m\u001b[38;5;124m\"\u001b[39m \u001b[38;5;241m+\u001b[39m env\u001b[38;5;241m.\u001b[39mget(\u001b[38;5;124m\"\u001b[39m\u001b[38;5;124mLD_LIBRARY_PATH\u001b[39m\u001b[38;5;124m\"\u001b[39m, \u001b[38;5;124m\"\u001b[39m\u001b[38;5;124m\"\u001b[39m)\n\u001b[1;32m--> 581\u001b[0m proc \u001b[38;5;241m=\u001b[39m \u001b[43mPopen\u001b[49m\u001b[43m(\u001b[49m\u001b[43mcommand\u001b[49m\u001b[43m,\u001b[49m\u001b[43m \u001b[49m\u001b[43menv\u001b[49m\u001b[38;5;241;43m=\u001b[39;49m\u001b[43menv\u001b[49m\u001b[43m,\u001b[49m\u001b[43m \u001b[49m\u001b[43mstdout\u001b[49m\u001b[38;5;241;43m=\u001b[39;49m\u001b[43mPIPE\u001b[49m\u001b[43m,\u001b[49m\u001b[43m \u001b[49m\u001b[43mstderr\u001b[49m\u001b[38;5;241;43m=\u001b[39;49m\u001b[43mPIPE\u001b[49m\u001b[43m)\u001b[49m\n\u001b[0;32m    583\u001b[0m \u001b[38;5;28;01mtry\u001b[39;00m:\n",
      "File \u001b[1;32m~\\AppData\\Local\\Programs\\Python\\Python312\\Lib\\subprocess.py:1026\u001b[0m, in \u001b[0;36mPopen.__init__\u001b[1;34m(self, args, bufsize, executable, stdin, stdout, stderr, preexec_fn, close_fds, shell, cwd, env, universal_newlines, startupinfo, creationflags, restore_signals, start_new_session, pass_fds, user, group, extra_groups, encoding, errors, text, umask, pipesize, process_group)\u001b[0m\n\u001b[0;32m   1023\u001b[0m             \u001b[38;5;28mself\u001b[39m\u001b[38;5;241m.\u001b[39mstderr \u001b[38;5;241m=\u001b[39m io\u001b[38;5;241m.\u001b[39mTextIOWrapper(\u001b[38;5;28mself\u001b[39m\u001b[38;5;241m.\u001b[39mstderr,\n\u001b[0;32m   1024\u001b[0m                     encoding\u001b[38;5;241m=\u001b[39mencoding, errors\u001b[38;5;241m=\u001b[39merrors)\n\u001b[1;32m-> 1026\u001b[0m     \u001b[38;5;28;43mself\u001b[39;49m\u001b[38;5;241;43m.\u001b[39;49m\u001b[43m_execute_child\u001b[49m\u001b[43m(\u001b[49m\u001b[43margs\u001b[49m\u001b[43m,\u001b[49m\u001b[43m \u001b[49m\u001b[43mexecutable\u001b[49m\u001b[43m,\u001b[49m\u001b[43m \u001b[49m\u001b[43mpreexec_fn\u001b[49m\u001b[43m,\u001b[49m\u001b[43m \u001b[49m\u001b[43mclose_fds\u001b[49m\u001b[43m,\u001b[49m\n\u001b[0;32m   1027\u001b[0m \u001b[43m                        \u001b[49m\u001b[43mpass_fds\u001b[49m\u001b[43m,\u001b[49m\u001b[43m \u001b[49m\u001b[43mcwd\u001b[49m\u001b[43m,\u001b[49m\u001b[43m \u001b[49m\u001b[43menv\u001b[49m\u001b[43m,\u001b[49m\n\u001b[0;32m   1028\u001b[0m \u001b[43m                        \u001b[49m\u001b[43mstartupinfo\u001b[49m\u001b[43m,\u001b[49m\u001b[43m \u001b[49m\u001b[43mcreationflags\u001b[49m\u001b[43m,\u001b[49m\u001b[43m \u001b[49m\u001b[43mshell\u001b[49m\u001b[43m,\u001b[49m\n\u001b[0;32m   1029\u001b[0m \u001b[43m                        \u001b[49m\u001b[43mp2cread\u001b[49m\u001b[43m,\u001b[49m\u001b[43m \u001b[49m\u001b[43mp2cwrite\u001b[49m\u001b[43m,\u001b[49m\n\u001b[0;32m   1030\u001b[0m \u001b[43m                        \u001b[49m\u001b[43mc2pread\u001b[49m\u001b[43m,\u001b[49m\u001b[43m \u001b[49m\u001b[43mc2pwrite\u001b[49m\u001b[43m,\u001b[49m\n\u001b[0;32m   1031\u001b[0m \u001b[43m                        \u001b[49m\u001b[43merrread\u001b[49m\u001b[43m,\u001b[49m\u001b[43m \u001b[49m\u001b[43merrwrite\u001b[49m\u001b[43m,\u001b[49m\n\u001b[0;32m   1032\u001b[0m \u001b[43m                        \u001b[49m\u001b[43mrestore_signals\u001b[49m\u001b[43m,\u001b[49m\n\u001b[0;32m   1033\u001b[0m \u001b[43m                        \u001b[49m\u001b[43mgid\u001b[49m\u001b[43m,\u001b[49m\u001b[43m \u001b[49m\u001b[43mgids\u001b[49m\u001b[43m,\u001b[49m\u001b[43m \u001b[49m\u001b[43muid\u001b[49m\u001b[43m,\u001b[49m\u001b[43m \u001b[49m\u001b[43mumask\u001b[49m\u001b[43m,\u001b[49m\n\u001b[0;32m   1034\u001b[0m \u001b[43m                        \u001b[49m\u001b[43mstart_new_session\u001b[49m\u001b[43m,\u001b[49m\u001b[43m \u001b[49m\u001b[43mprocess_group\u001b[49m\u001b[43m)\u001b[49m\n\u001b[0;32m   1035\u001b[0m \u001b[38;5;28;01mexcept\u001b[39;00m:\n\u001b[0;32m   1036\u001b[0m     \u001b[38;5;66;03m# Cleanup if the child failed starting.\u001b[39;00m\n",
      "File \u001b[1;32m~\\AppData\\Local\\Programs\\Python\\Python312\\Lib\\subprocess.py:1538\u001b[0m, in \u001b[0;36mPopen._execute_child\u001b[1;34m(self, args, executable, preexec_fn, close_fds, pass_fds, cwd, env, startupinfo, creationflags, shell, p2cread, p2cwrite, c2pread, c2pwrite, errread, errwrite, unused_restore_signals, unused_gid, unused_gids, unused_uid, unused_umask, unused_start_new_session, unused_process_group)\u001b[0m\n\u001b[0;32m   1537\u001b[0m \u001b[38;5;28;01mtry\u001b[39;00m:\n\u001b[1;32m-> 1538\u001b[0m     hp, ht, pid, tid \u001b[38;5;241m=\u001b[39m \u001b[43m_winapi\u001b[49m\u001b[38;5;241;43m.\u001b[39;49m\u001b[43mCreateProcess\u001b[49m\u001b[43m(\u001b[49m\u001b[43mexecutable\u001b[49m\u001b[43m,\u001b[49m\u001b[43m \u001b[49m\u001b[43margs\u001b[49m\u001b[43m,\u001b[49m\n\u001b[0;32m   1539\u001b[0m \u001b[43m                             \u001b[49m\u001b[38;5;66;43;03m# no special security\u001b[39;49;00m\n\u001b[0;32m   1540\u001b[0m \u001b[43m                             \u001b[49m\u001b[38;5;28;43;01mNone\u001b[39;49;00m\u001b[43m,\u001b[49m\u001b[43m \u001b[49m\u001b[38;5;28;43;01mNone\u001b[39;49;00m\u001b[43m,\u001b[49m\n\u001b[0;32m   1541\u001b[0m \u001b[43m                             \u001b[49m\u001b[38;5;28;43mint\u001b[39;49m\u001b[43m(\u001b[49m\u001b[38;5;129;43;01mnot\u001b[39;49;00m\u001b[43m \u001b[49m\u001b[43mclose_fds\u001b[49m\u001b[43m)\u001b[49m\u001b[43m,\u001b[49m\n\u001b[0;32m   1542\u001b[0m \u001b[43m                             \u001b[49m\u001b[43mcreationflags\u001b[49m\u001b[43m,\u001b[49m\n\u001b[0;32m   1543\u001b[0m \u001b[43m                             \u001b[49m\u001b[43menv\u001b[49m\u001b[43m,\u001b[49m\n\u001b[0;32m   1544\u001b[0m \u001b[43m                             \u001b[49m\u001b[43mcwd\u001b[49m\u001b[43m,\u001b[49m\n\u001b[0;32m   1545\u001b[0m \u001b[43m                             \u001b[49m\u001b[43mstartupinfo\u001b[49m\u001b[43m)\u001b[49m\n\u001b[0;32m   1546\u001b[0m \u001b[38;5;28;01mfinally\u001b[39;00m:\n\u001b[0;32m   1547\u001b[0m     \u001b[38;5;66;03m# Child is launched. Close the parent's copy of those pipe\u001b[39;00m\n\u001b[0;32m   1548\u001b[0m     \u001b[38;5;66;03m# handles that only the child should have open.  You need\u001b[39;00m\n\u001b[1;32m   (...)\u001b[0m\n\u001b[0;32m   1551\u001b[0m     \u001b[38;5;66;03m# pipe will not close when the child process exits and the\u001b[39;00m\n\u001b[0;32m   1552\u001b[0m     \u001b[38;5;66;03m# ReadFile will hang.\u001b[39;00m\n",
      "\u001b[1;31mFileNotFoundError\u001b[0m: [WinError 2] The system cannot find the file specified",
      "\nDuring handling of the above exception, another exception occurred:\n",
      "\u001b[1;31mPDFInfoNotInstalledError\u001b[0m                  Traceback (most recent call last)",
      "Cell \u001b[1;32mIn[150], line 3\u001b[0m\n\u001b[0;32m      1\u001b[0m \u001b[38;5;28mprint\u001b[39m(\u001b[38;5;124m\"\u001b[39m\u001b[38;5;124mstart partitioning\u001b[39m\u001b[38;5;124m\"\u001b[39m)\n\u001b[0;32m      2\u001b[0m \u001b[38;5;66;03m# Returns a List[Element] present in the pages of the parsed pdf document\u001b[39;00m\n\u001b[1;32m----> 3\u001b[0m elements_h \u001b[38;5;241m=\u001b[39m \u001b[43mpartition_pdf\u001b[49m\u001b[43m(\u001b[49m\u001b[38;5;124;43m\"\u001b[39;49m\u001b[38;5;124;43mpyATS_p1_30.pdf\u001b[39;49m\u001b[38;5;124;43m\"\u001b[39;49m\u001b[43m,\u001b[49m\u001b[43m \u001b[49m\u001b[43mstrategy\u001b[49m\u001b[38;5;241;43m=\u001b[39;49m\u001b[38;5;124;43m\"\u001b[39;49m\u001b[38;5;124;43mhi_res\u001b[39;49m\u001b[38;5;124;43m\"\u001b[39;49m\u001b[43m)\u001b[49m\n\u001b[0;32m      4\u001b[0m \u001b[38;5;28mprint\u001b[39m(\u001b[38;5;124m\"\u001b[39m\u001b[38;5;124mdone partitioning pdf into elements\u001b[39m\u001b[38;5;124m\"\u001b[39m)\n",
      "File \u001b[1;32md:\\dev\\PyATS\\.venv\\Lib\\site-packages\\unstructured\\documents\\elements.py:581\u001b[0m, in \u001b[0;36mprocess_metadata.<locals>.decorator.<locals>.wrapper\u001b[1;34m(*args, **kwargs)\u001b[0m\n\u001b[0;32m    579\u001b[0m \u001b[38;5;129m@functools\u001b[39m\u001b[38;5;241m.\u001b[39mwraps(func)\n\u001b[0;32m    580\u001b[0m \u001b[38;5;28;01mdef\u001b[39;00m \u001b[38;5;21mwrapper\u001b[39m(\u001b[38;5;241m*\u001b[39margs: _P\u001b[38;5;241m.\u001b[39margs, \u001b[38;5;241m*\u001b[39m\u001b[38;5;241m*\u001b[39mkwargs: _P\u001b[38;5;241m.\u001b[39mkwargs) \u001b[38;5;241m-\u001b[39m\u001b[38;5;241m>\u001b[39m \u001b[38;5;28mlist\u001b[39m[Element]:\n\u001b[1;32m--> 581\u001b[0m     elements \u001b[38;5;241m=\u001b[39m \u001b[43mfunc\u001b[49m\u001b[43m(\u001b[49m\u001b[38;5;241;43m*\u001b[39;49m\u001b[43margs\u001b[49m\u001b[43m,\u001b[49m\u001b[43m \u001b[49m\u001b[38;5;241;43m*\u001b[39;49m\u001b[38;5;241;43m*\u001b[39;49m\u001b[43mkwargs\u001b[49m\u001b[43m)\u001b[49m\n\u001b[0;32m    582\u001b[0m     call_args \u001b[38;5;241m=\u001b[39m get_call_args_applying_defaults(func, \u001b[38;5;241m*\u001b[39margs, \u001b[38;5;241m*\u001b[39m\u001b[38;5;241m*\u001b[39mkwargs)\n\u001b[0;32m    584\u001b[0m     unique_element_ids: \u001b[38;5;28mbool\u001b[39m \u001b[38;5;241m=\u001b[39m call_args\u001b[38;5;241m.\u001b[39mget(\u001b[38;5;124m\"\u001b[39m\u001b[38;5;124munique_element_ids\u001b[39m\u001b[38;5;124m\"\u001b[39m, \u001b[38;5;28;01mFalse\u001b[39;00m)\n",
      "File \u001b[1;32md:\\dev\\PyATS\\.venv\\Lib\\site-packages\\unstructured\\file_utils\\filetype.py:725\u001b[0m, in \u001b[0;36madd_filetype.<locals>.decorator.<locals>.wrapper\u001b[1;34m(*args, **kwargs)\u001b[0m\n\u001b[0;32m    723\u001b[0m \u001b[38;5;129m@functools\u001b[39m\u001b[38;5;241m.\u001b[39mwraps(func)\n\u001b[0;32m    724\u001b[0m \u001b[38;5;28;01mdef\u001b[39;00m \u001b[38;5;21mwrapper\u001b[39m(\u001b[38;5;241m*\u001b[39margs: _P\u001b[38;5;241m.\u001b[39margs, \u001b[38;5;241m*\u001b[39m\u001b[38;5;241m*\u001b[39mkwargs: _P\u001b[38;5;241m.\u001b[39mkwargs) \u001b[38;5;241m-\u001b[39m\u001b[38;5;241m>\u001b[39m \u001b[38;5;28mlist\u001b[39m[Element]:\n\u001b[1;32m--> 725\u001b[0m     elements \u001b[38;5;241m=\u001b[39m \u001b[43mfunc\u001b[49m\u001b[43m(\u001b[49m\u001b[38;5;241;43m*\u001b[39;49m\u001b[43margs\u001b[49m\u001b[43m,\u001b[49m\u001b[43m \u001b[49m\u001b[38;5;241;43m*\u001b[39;49m\u001b[38;5;241;43m*\u001b[39;49m\u001b[43mkwargs\u001b[49m\u001b[43m)\u001b[49m\n\u001b[0;32m    727\u001b[0m     \u001b[38;5;28;01mfor\u001b[39;00m element \u001b[38;5;129;01min\u001b[39;00m elements:\n\u001b[0;32m    728\u001b[0m         \u001b[38;5;66;03m# NOTE(robinson) - Attached files have already run through this logic\u001b[39;00m\n\u001b[0;32m    729\u001b[0m         \u001b[38;5;66;03m# in their own partitioning function\u001b[39;00m\n\u001b[0;32m    730\u001b[0m         \u001b[38;5;28;01mif\u001b[39;00m element\u001b[38;5;241m.\u001b[39mmetadata\u001b[38;5;241m.\u001b[39mattached_to_filename \u001b[38;5;129;01mis\u001b[39;00m \u001b[38;5;28;01mNone\u001b[39;00m:\n",
      "File \u001b[1;32md:\\dev\\PyATS\\.venv\\Lib\\site-packages\\unstructured\\file_utils\\filetype.py:683\u001b[0m, in \u001b[0;36madd_metadata.<locals>.wrapper\u001b[1;34m(*args, **kwargs)\u001b[0m\n\u001b[0;32m    681\u001b[0m \u001b[38;5;129m@functools\u001b[39m\u001b[38;5;241m.\u001b[39mwraps(func)\n\u001b[0;32m    682\u001b[0m \u001b[38;5;28;01mdef\u001b[39;00m \u001b[38;5;21mwrapper\u001b[39m(\u001b[38;5;241m*\u001b[39margs: _P\u001b[38;5;241m.\u001b[39margs, \u001b[38;5;241m*\u001b[39m\u001b[38;5;241m*\u001b[39mkwargs: _P\u001b[38;5;241m.\u001b[39mkwargs) \u001b[38;5;241m-\u001b[39m\u001b[38;5;241m>\u001b[39m \u001b[38;5;28mlist\u001b[39m[Element]:\n\u001b[1;32m--> 683\u001b[0m     elements \u001b[38;5;241m=\u001b[39m \u001b[43mfunc\u001b[49m\u001b[43m(\u001b[49m\u001b[38;5;241;43m*\u001b[39;49m\u001b[43margs\u001b[49m\u001b[43m,\u001b[49m\u001b[43m \u001b[49m\u001b[38;5;241;43m*\u001b[39;49m\u001b[38;5;241;43m*\u001b[39;49m\u001b[43mkwargs\u001b[49m\u001b[43m)\u001b[49m\n\u001b[0;32m    684\u001b[0m     call_args \u001b[38;5;241m=\u001b[39m get_call_args_applying_defaults(func, \u001b[38;5;241m*\u001b[39margs, \u001b[38;5;241m*\u001b[39m\u001b[38;5;241m*\u001b[39mkwargs)\n\u001b[0;32m    686\u001b[0m     \u001b[38;5;28;01mif\u001b[39;00m call_args\u001b[38;5;241m.\u001b[39mget(\u001b[38;5;124m\"\u001b[39m\u001b[38;5;124mmetadata_filename\u001b[39m\u001b[38;5;124m\"\u001b[39m):\n",
      "File \u001b[1;32md:\\dev\\PyATS\\.venv\\Lib\\site-packages\\unstructured\\chunking\\dispatch.py:74\u001b[0m, in \u001b[0;36madd_chunking_strategy.<locals>.wrapper\u001b[1;34m(*args, **kwargs)\u001b[0m\n\u001b[0;32m     71\u001b[0m \u001b[38;5;250m\u001b[39m\u001b[38;5;124;03m\"\"\"The decorated function is replaced with this one.\"\"\"\u001b[39;00m\n\u001b[0;32m     73\u001b[0m \u001b[38;5;66;03m# -- call the partitioning function to get the elements --\u001b[39;00m\n\u001b[1;32m---> 74\u001b[0m elements \u001b[38;5;241m=\u001b[39m \u001b[43mfunc\u001b[49m\u001b[43m(\u001b[49m\u001b[38;5;241;43m*\u001b[39;49m\u001b[43margs\u001b[49m\u001b[43m,\u001b[49m\u001b[43m \u001b[49m\u001b[38;5;241;43m*\u001b[39;49m\u001b[38;5;241;43m*\u001b[39;49m\u001b[43mkwargs\u001b[49m\u001b[43m)\u001b[49m\n\u001b[0;32m     76\u001b[0m \u001b[38;5;66;03m# -- look for a chunking-strategy argument --\u001b[39;00m\n\u001b[0;32m     77\u001b[0m call_args \u001b[38;5;241m=\u001b[39m get_call_args_applying_defaults(func, \u001b[38;5;241m*\u001b[39margs, \u001b[38;5;241m*\u001b[39m\u001b[38;5;241m*\u001b[39mkwargs)\n",
      "File \u001b[1;32md:\\dev\\PyATS\\.venv\\Lib\\site-packages\\unstructured\\partition\\pdf.py:209\u001b[0m, in \u001b[0;36mpartition_pdf\u001b[1;34m(filename, file, include_page_breaks, strategy, infer_table_structure, ocr_languages, languages, metadata_filename, metadata_last_modified, chunking_strategy, hi_res_model_name, extract_images_in_pdf, extract_image_block_types, extract_image_block_output_dir, extract_image_block_to_payload, starting_page_number, extract_forms, form_extraction_skip_tables, **kwargs)\u001b[0m\n\u001b[0;32m    205\u001b[0m exactly_one(filename\u001b[38;5;241m=\u001b[39mfilename, file\u001b[38;5;241m=\u001b[39mfile)\n\u001b[0;32m    207\u001b[0m languages \u001b[38;5;241m=\u001b[39m check_language_args(languages \u001b[38;5;129;01mor\u001b[39;00m [], ocr_languages)\n\u001b[1;32m--> 209\u001b[0m \u001b[38;5;28;01mreturn\u001b[39;00m \u001b[43mpartition_pdf_or_image\u001b[49m\u001b[43m(\u001b[49m\n\u001b[0;32m    210\u001b[0m \u001b[43m    \u001b[49m\u001b[43mfilename\u001b[49m\u001b[38;5;241;43m=\u001b[39;49m\u001b[43mfilename\u001b[49m\u001b[43m,\u001b[49m\n\u001b[0;32m    211\u001b[0m \u001b[43m    \u001b[49m\u001b[43mfile\u001b[49m\u001b[38;5;241;43m=\u001b[39;49m\u001b[43mfile\u001b[49m\u001b[43m,\u001b[49m\n\u001b[0;32m    212\u001b[0m \u001b[43m    \u001b[49m\u001b[43minclude_page_breaks\u001b[49m\u001b[38;5;241;43m=\u001b[39;49m\u001b[43minclude_page_breaks\u001b[49m\u001b[43m,\u001b[49m\n\u001b[0;32m    213\u001b[0m \u001b[43m    \u001b[49m\u001b[43mstrategy\u001b[49m\u001b[38;5;241;43m=\u001b[39;49m\u001b[43mstrategy\u001b[49m\u001b[43m,\u001b[49m\n\u001b[0;32m    214\u001b[0m \u001b[43m    \u001b[49m\u001b[43minfer_table_structure\u001b[49m\u001b[38;5;241;43m=\u001b[39;49m\u001b[43minfer_table_structure\u001b[49m\u001b[43m,\u001b[49m\n\u001b[0;32m    215\u001b[0m \u001b[43m    \u001b[49m\u001b[43mlanguages\u001b[49m\u001b[38;5;241;43m=\u001b[39;49m\u001b[43mlanguages\u001b[49m\u001b[43m,\u001b[49m\n\u001b[0;32m    216\u001b[0m \u001b[43m    \u001b[49m\u001b[43mmetadata_last_modified\u001b[49m\u001b[38;5;241;43m=\u001b[39;49m\u001b[43mmetadata_last_modified\u001b[49m\u001b[43m,\u001b[49m\n\u001b[0;32m    217\u001b[0m \u001b[43m    \u001b[49m\u001b[43mhi_res_model_name\u001b[49m\u001b[38;5;241;43m=\u001b[39;49m\u001b[43mhi_res_model_name\u001b[49m\u001b[43m,\u001b[49m\n\u001b[0;32m    218\u001b[0m \u001b[43m    \u001b[49m\u001b[43mextract_images_in_pdf\u001b[49m\u001b[38;5;241;43m=\u001b[39;49m\u001b[43mextract_images_in_pdf\u001b[49m\u001b[43m,\u001b[49m\n\u001b[0;32m    219\u001b[0m \u001b[43m    \u001b[49m\u001b[43mextract_image_block_types\u001b[49m\u001b[38;5;241;43m=\u001b[39;49m\u001b[43mextract_image_block_types\u001b[49m\u001b[43m,\u001b[49m\n\u001b[0;32m    220\u001b[0m \u001b[43m    \u001b[49m\u001b[43mextract_image_block_output_dir\u001b[49m\u001b[38;5;241;43m=\u001b[39;49m\u001b[43mextract_image_block_output_dir\u001b[49m\u001b[43m,\u001b[49m\n\u001b[0;32m    221\u001b[0m \u001b[43m    \u001b[49m\u001b[43mextract_image_block_to_payload\u001b[49m\u001b[38;5;241;43m=\u001b[39;49m\u001b[43mextract_image_block_to_payload\u001b[49m\u001b[43m,\u001b[49m\n\u001b[0;32m    222\u001b[0m \u001b[43m    \u001b[49m\u001b[43mstarting_page_number\u001b[49m\u001b[38;5;241;43m=\u001b[39;49m\u001b[43mstarting_page_number\u001b[49m\u001b[43m,\u001b[49m\n\u001b[0;32m    223\u001b[0m \u001b[43m    \u001b[49m\u001b[43mextract_forms\u001b[49m\u001b[38;5;241;43m=\u001b[39;49m\u001b[43mextract_forms\u001b[49m\u001b[43m,\u001b[49m\n\u001b[0;32m    224\u001b[0m \u001b[43m    \u001b[49m\u001b[43mform_extraction_skip_tables\u001b[49m\u001b[38;5;241;43m=\u001b[39;49m\u001b[43mform_extraction_skip_tables\u001b[49m\u001b[43m,\u001b[49m\n\u001b[0;32m    225\u001b[0m \u001b[43m    \u001b[49m\u001b[38;5;241;43m*\u001b[39;49m\u001b[38;5;241;43m*\u001b[39;49m\u001b[43mkwargs\u001b[49m\u001b[43m,\u001b[49m\n\u001b[0;32m    226\u001b[0m \u001b[43m\u001b[49m\u001b[43m)\u001b[49m\n",
      "File \u001b[1;32md:\\dev\\PyATS\\.venv\\Lib\\site-packages\\unstructured\\partition\\pdf.py:305\u001b[0m, in \u001b[0;36mpartition_pdf_or_image\u001b[1;34m(filename, file, is_image, include_page_breaks, strategy, infer_table_structure, languages, metadata_last_modified, hi_res_model_name, extract_images_in_pdf, extract_image_block_types, extract_image_block_output_dir, extract_image_block_to_payload, starting_page_number, extract_forms, form_extraction_skip_tables, **kwargs)\u001b[0m\n\u001b[0;32m    303\u001b[0m     \u001b[38;5;28;01mwith\u001b[39;00m warnings\u001b[38;5;241m.\u001b[39mcatch_warnings():\n\u001b[0;32m    304\u001b[0m         warnings\u001b[38;5;241m.\u001b[39msimplefilter(\u001b[38;5;124m\"\u001b[39m\u001b[38;5;124mignore\u001b[39m\u001b[38;5;124m\"\u001b[39m)\n\u001b[1;32m--> 305\u001b[0m         elements \u001b[38;5;241m=\u001b[39m \u001b[43m_partition_pdf_or_image_local\u001b[49m\u001b[43m(\u001b[49m\n\u001b[0;32m    306\u001b[0m \u001b[43m            \u001b[49m\u001b[43mfilename\u001b[49m\u001b[38;5;241;43m=\u001b[39;49m\u001b[43mfilename\u001b[49m\u001b[43m,\u001b[49m\n\u001b[0;32m    307\u001b[0m \u001b[43m            \u001b[49m\u001b[43mfile\u001b[49m\u001b[38;5;241;43m=\u001b[39;49m\u001b[43mspooled_to_bytes_io_if_needed\u001b[49m\u001b[43m(\u001b[49m\u001b[43mfile\u001b[49m\u001b[43m)\u001b[49m\u001b[43m,\u001b[49m\n\u001b[0;32m    308\u001b[0m \u001b[43m            \u001b[49m\u001b[43mis_image\u001b[49m\u001b[38;5;241;43m=\u001b[39;49m\u001b[43mis_image\u001b[49m\u001b[43m,\u001b[49m\n\u001b[0;32m    309\u001b[0m \u001b[43m            \u001b[49m\u001b[43minfer_table_structure\u001b[49m\u001b[38;5;241;43m=\u001b[39;49m\u001b[43minfer_table_structure\u001b[49m\u001b[43m,\u001b[49m\n\u001b[0;32m    310\u001b[0m \u001b[43m            \u001b[49m\u001b[43minclude_page_breaks\u001b[49m\u001b[38;5;241;43m=\u001b[39;49m\u001b[43minclude_page_breaks\u001b[49m\u001b[43m,\u001b[49m\n\u001b[0;32m    311\u001b[0m \u001b[43m            \u001b[49m\u001b[43mlanguages\u001b[49m\u001b[38;5;241;43m=\u001b[39;49m\u001b[43mlanguages\u001b[49m\u001b[43m,\u001b[49m\n\u001b[0;32m    312\u001b[0m \u001b[43m            \u001b[49m\u001b[43mocr_languages\u001b[49m\u001b[38;5;241;43m=\u001b[39;49m\u001b[43mocr_languages\u001b[49m\u001b[43m,\u001b[49m\n\u001b[0;32m    313\u001b[0m \u001b[43m            \u001b[49m\u001b[43mmetadata_last_modified\u001b[49m\u001b[38;5;241;43m=\u001b[39;49m\u001b[43mmetadata_last_modified\u001b[49m\u001b[43m \u001b[49m\u001b[38;5;129;43;01mor\u001b[39;49;00m\u001b[43m \u001b[49m\u001b[43mlast_modified\u001b[49m\u001b[43m,\u001b[49m\n\u001b[0;32m    314\u001b[0m \u001b[43m            \u001b[49m\u001b[43mhi_res_model_name\u001b[49m\u001b[38;5;241;43m=\u001b[39;49m\u001b[43mhi_res_model_name\u001b[49m\u001b[43m,\u001b[49m\n\u001b[0;32m    315\u001b[0m \u001b[43m            \u001b[49m\u001b[43mpdf_text_extractable\u001b[49m\u001b[38;5;241;43m=\u001b[39;49m\u001b[43mpdf_text_extractable\u001b[49m\u001b[43m,\u001b[49m\n\u001b[0;32m    316\u001b[0m \u001b[43m            \u001b[49m\u001b[43mextract_images_in_pdf\u001b[49m\u001b[38;5;241;43m=\u001b[39;49m\u001b[43mextract_images_in_pdf\u001b[49m\u001b[43m,\u001b[49m\n\u001b[0;32m    317\u001b[0m \u001b[43m            \u001b[49m\u001b[43mextract_image_block_types\u001b[49m\u001b[38;5;241;43m=\u001b[39;49m\u001b[43mextract_image_block_types\u001b[49m\u001b[43m,\u001b[49m\n\u001b[0;32m    318\u001b[0m \u001b[43m            \u001b[49m\u001b[43mextract_image_block_output_dir\u001b[49m\u001b[38;5;241;43m=\u001b[39;49m\u001b[43mextract_image_block_output_dir\u001b[49m\u001b[43m,\u001b[49m\n\u001b[0;32m    319\u001b[0m \u001b[43m            \u001b[49m\u001b[43mextract_image_block_to_payload\u001b[49m\u001b[38;5;241;43m=\u001b[39;49m\u001b[43mextract_image_block_to_payload\u001b[49m\u001b[43m,\u001b[49m\n\u001b[0;32m    320\u001b[0m \u001b[43m            \u001b[49m\u001b[43mstarting_page_number\u001b[49m\u001b[38;5;241;43m=\u001b[39;49m\u001b[43mstarting_page_number\u001b[49m\u001b[43m,\u001b[49m\n\u001b[0;32m    321\u001b[0m \u001b[43m            \u001b[49m\u001b[43mextract_forms\u001b[49m\u001b[38;5;241;43m=\u001b[39;49m\u001b[43mextract_forms\u001b[49m\u001b[43m,\u001b[49m\n\u001b[0;32m    322\u001b[0m \u001b[43m            \u001b[49m\u001b[43mform_extraction_skip_tables\u001b[49m\u001b[38;5;241;43m=\u001b[39;49m\u001b[43mform_extraction_skip_tables\u001b[49m\u001b[43m,\u001b[49m\n\u001b[0;32m    323\u001b[0m \u001b[43m            \u001b[49m\u001b[38;5;241;43m*\u001b[39;49m\u001b[38;5;241;43m*\u001b[39;49m\u001b[43mkwargs\u001b[49m\u001b[43m,\u001b[49m\n\u001b[0;32m    324\u001b[0m \u001b[43m        \u001b[49m\u001b[43m)\u001b[49m\n\u001b[0;32m    325\u001b[0m         out_elements \u001b[38;5;241m=\u001b[39m _process_uncategorized_text_elements(elements)\n\u001b[0;32m    327\u001b[0m \u001b[38;5;28;01melif\u001b[39;00m strategy \u001b[38;5;241m==\u001b[39m PartitionStrategy\u001b[38;5;241m.\u001b[39mFAST:\n",
      "File \u001b[1;32md:\\dev\\PyATS\\.venv\\Lib\\site-packages\\unstructured\\utils.py:216\u001b[0m, in \u001b[0;36mrequires_dependencies.<locals>.decorator.<locals>.wrapper\u001b[1;34m(*args, **kwargs)\u001b[0m\n\u001b[0;32m    213\u001b[0m \u001b[38;5;129m@wraps\u001b[39m(func)\n\u001b[0;32m    214\u001b[0m \u001b[38;5;28;01mdef\u001b[39;00m \u001b[38;5;21mwrapper\u001b[39m(\u001b[38;5;241m*\u001b[39margs: _P\u001b[38;5;241m.\u001b[39margs, \u001b[38;5;241m*\u001b[39m\u001b[38;5;241m*\u001b[39mkwargs: _P\u001b[38;5;241m.\u001b[39mkwargs):\n\u001b[0;32m    215\u001b[0m     run_check()\n\u001b[1;32m--> 216\u001b[0m     \u001b[38;5;28;01mreturn\u001b[39;00m \u001b[43mfunc\u001b[49m\u001b[43m(\u001b[49m\u001b[38;5;241;43m*\u001b[39;49m\u001b[43margs\u001b[49m\u001b[43m,\u001b[49m\u001b[43m \u001b[49m\u001b[38;5;241;43m*\u001b[39;49m\u001b[38;5;241;43m*\u001b[39;49m\u001b[43mkwargs\u001b[49m\u001b[43m)\u001b[49m\n",
      "File \u001b[1;32md:\\dev\\PyATS\\.venv\\Lib\\site-packages\\unstructured\\partition\\pdf.py:588\u001b[0m, in \u001b[0;36m_partition_pdf_or_image_local\u001b[1;34m(filename, file, is_image, infer_table_structure, include_page_breaks, languages, ocr_languages, ocr_mode, model_name, hi_res_model_name, pdf_image_dpi, metadata_last_modified, pdf_text_extractable, extract_images_in_pdf, extract_image_block_types, extract_image_block_output_dir, extract_image_block_to_payload, analysis, analyzed_image_output_dir_path, starting_page_number, extract_forms, form_extraction_skip_tables, pdf_hi_res_max_pages, **kwargs)\u001b[0m\n\u001b[0;32m    585\u001b[0m skip_analysis_dump \u001b[38;5;241m=\u001b[39m env_config\u001b[38;5;241m.\u001b[39mANALYSIS_DUMP_OD_SKIP\n\u001b[0;32m    587\u001b[0m \u001b[38;5;28;01mif\u001b[39;00m file \u001b[38;5;129;01mis\u001b[39;00m \u001b[38;5;28;01mNone\u001b[39;00m:\n\u001b[1;32m--> 588\u001b[0m     inferred_document_layout \u001b[38;5;241m=\u001b[39m \u001b[43mprocess_file_with_model\u001b[49m\u001b[43m(\u001b[49m\n\u001b[0;32m    589\u001b[0m \u001b[43m        \u001b[49m\u001b[43mfilename\u001b[49m\u001b[43m,\u001b[49m\n\u001b[0;32m    590\u001b[0m \u001b[43m        \u001b[49m\u001b[43mis_image\u001b[49m\u001b[38;5;241;43m=\u001b[39;49m\u001b[43mis_image\u001b[49m\u001b[43m,\u001b[49m\n\u001b[0;32m    591\u001b[0m \u001b[43m        \u001b[49m\u001b[43mmodel_name\u001b[49m\u001b[38;5;241;43m=\u001b[39;49m\u001b[43mhi_res_model_name\u001b[49m\u001b[43m,\u001b[49m\n\u001b[0;32m    592\u001b[0m \u001b[43m        \u001b[49m\u001b[43mpdf_image_dpi\u001b[49m\u001b[38;5;241;43m=\u001b[39;49m\u001b[43mpdf_image_dpi\u001b[49m\u001b[43m,\u001b[49m\n\u001b[0;32m    593\u001b[0m \u001b[43m    \u001b[49m\u001b[43m)\u001b[49m\n\u001b[0;32m    595\u001b[0m     extracted_layout, layouts_links \u001b[38;5;241m=\u001b[39m (\n\u001b[0;32m    596\u001b[0m         process_file_with_pdfminer(filename\u001b[38;5;241m=\u001b[39mfilename, dpi\u001b[38;5;241m=\u001b[39mpdf_image_dpi)\n\u001b[0;32m    597\u001b[0m         \u001b[38;5;28;01mif\u001b[39;00m pdf_text_extractable\n\u001b[0;32m    598\u001b[0m         \u001b[38;5;28;01melse\u001b[39;00m ([], [])\n\u001b[0;32m    599\u001b[0m     )\n\u001b[0;32m    601\u001b[0m     \u001b[38;5;28;01mif\u001b[39;00m analysis:\n",
      "File \u001b[1;32md:\\dev\\PyATS\\.venv\\Lib\\site-packages\\unstructured_inference\\inference\\layout.py:376\u001b[0m, in \u001b[0;36mprocess_file_with_model\u001b[1;34m(filename, model_name, is_image, fixed_layouts, pdf_image_dpi, **kwargs)\u001b[0m\n\u001b[0;32m    366\u001b[0m \u001b[38;5;28;01melse\u001b[39;00m:\n\u001b[0;32m    367\u001b[0m     \u001b[38;5;28;01mraise\u001b[39;00m \u001b[38;5;167;01mValueError\u001b[39;00m(\u001b[38;5;124mf\u001b[39m\u001b[38;5;124m\"\u001b[39m\u001b[38;5;124mUnsupported model type: \u001b[39m\u001b[38;5;132;01m{\u001b[39;00m\u001b[38;5;28mtype\u001b[39m(model)\u001b[38;5;132;01m}\u001b[39;00m\u001b[38;5;124m\"\u001b[39m)\n\u001b[0;32m    368\u001b[0m layout \u001b[38;5;241m=\u001b[39m (\n\u001b[0;32m    369\u001b[0m     DocumentLayout\u001b[38;5;241m.\u001b[39mfrom_image_file(\n\u001b[0;32m    370\u001b[0m         filename,\n\u001b[0;32m    371\u001b[0m         detection_model\u001b[38;5;241m=\u001b[39mdetection_model,\n\u001b[0;32m    372\u001b[0m         element_extraction_model\u001b[38;5;241m=\u001b[39melement_extraction_model,\n\u001b[0;32m    373\u001b[0m         \u001b[38;5;241m*\u001b[39m\u001b[38;5;241m*\u001b[39mkwargs,\n\u001b[0;32m    374\u001b[0m     )\n\u001b[0;32m    375\u001b[0m     \u001b[38;5;28;01mif\u001b[39;00m is_image\n\u001b[1;32m--> 376\u001b[0m     \u001b[38;5;28;01melse\u001b[39;00m \u001b[43mDocumentLayout\u001b[49m\u001b[38;5;241;43m.\u001b[39;49m\u001b[43mfrom_file\u001b[49m\u001b[43m(\u001b[49m\n\u001b[0;32m    377\u001b[0m \u001b[43m        \u001b[49m\u001b[43mfilename\u001b[49m\u001b[43m,\u001b[49m\n\u001b[0;32m    378\u001b[0m \u001b[43m        \u001b[49m\u001b[43mdetection_model\u001b[49m\u001b[38;5;241;43m=\u001b[39;49m\u001b[43mdetection_model\u001b[49m\u001b[43m,\u001b[49m\n\u001b[0;32m    379\u001b[0m \u001b[43m        \u001b[49m\u001b[43melement_extraction_model\u001b[49m\u001b[38;5;241;43m=\u001b[39;49m\u001b[43melement_extraction_model\u001b[49m\u001b[43m,\u001b[49m\n\u001b[0;32m    380\u001b[0m \u001b[43m        \u001b[49m\u001b[43mfixed_layouts\u001b[49m\u001b[38;5;241;43m=\u001b[39;49m\u001b[43mfixed_layouts\u001b[49m\u001b[43m,\u001b[49m\n\u001b[0;32m    381\u001b[0m \u001b[43m        \u001b[49m\u001b[43mpdf_image_dpi\u001b[49m\u001b[38;5;241;43m=\u001b[39;49m\u001b[43mpdf_image_dpi\u001b[49m\u001b[43m,\u001b[49m\n\u001b[0;32m    382\u001b[0m \u001b[43m        \u001b[49m\u001b[38;5;241;43m*\u001b[39;49m\u001b[38;5;241;43m*\u001b[39;49m\u001b[43mkwargs\u001b[49m\u001b[43m,\u001b[49m\n\u001b[0;32m    383\u001b[0m \u001b[43m    \u001b[49m\u001b[43m)\u001b[49m\n\u001b[0;32m    384\u001b[0m )\n\u001b[0;32m    385\u001b[0m \u001b[38;5;28;01mreturn\u001b[39;00m layout\n",
      "File \u001b[1;32md:\\dev\\PyATS\\.venv\\Lib\\site-packages\\unstructured_inference\\inference\\layout.py:60\u001b[0m, in \u001b[0;36mDocumentLayout.from_file\u001b[1;34m(cls, filename, fixed_layouts, pdf_image_dpi, **kwargs)\u001b[0m\n\u001b[0;32m     57\u001b[0m logger\u001b[38;5;241m.\u001b[39minfo(\u001b[38;5;124mf\u001b[39m\u001b[38;5;124m\"\u001b[39m\u001b[38;5;124mReading PDF for file: \u001b[39m\u001b[38;5;132;01m{\u001b[39;00mfilename\u001b[38;5;132;01m}\u001b[39;00m\u001b[38;5;124m ...\u001b[39m\u001b[38;5;124m\"\u001b[39m)\n\u001b[0;32m     59\u001b[0m \u001b[38;5;28;01mwith\u001b[39;00m tempfile\u001b[38;5;241m.\u001b[39mTemporaryDirectory() \u001b[38;5;28;01mas\u001b[39;00m temp_dir:\n\u001b[1;32m---> 60\u001b[0m     _image_paths \u001b[38;5;241m=\u001b[39m \u001b[43mconvert_pdf_to_image\u001b[49m\u001b[43m(\u001b[49m\n\u001b[0;32m     61\u001b[0m \u001b[43m        \u001b[49m\u001b[43mfilename\u001b[49m\u001b[43m,\u001b[49m\n\u001b[0;32m     62\u001b[0m \u001b[43m        \u001b[49m\u001b[43mpdf_image_dpi\u001b[49m\u001b[43m,\u001b[49m\n\u001b[0;32m     63\u001b[0m \u001b[43m        \u001b[49m\u001b[43moutput_folder\u001b[49m\u001b[38;5;241;43m=\u001b[39;49m\u001b[43mtemp_dir\u001b[49m\u001b[43m,\u001b[49m\n\u001b[0;32m     64\u001b[0m \u001b[43m        \u001b[49m\u001b[43mpath_only\u001b[49m\u001b[38;5;241;43m=\u001b[39;49m\u001b[38;5;28;43;01mTrue\u001b[39;49;00m\u001b[43m,\u001b[49m\n\u001b[0;32m     65\u001b[0m \u001b[43m    \u001b[49m\u001b[43m)\u001b[49m\n\u001b[0;32m     66\u001b[0m     image_paths \u001b[38;5;241m=\u001b[39m cast(List[\u001b[38;5;28mstr\u001b[39m], _image_paths)\n\u001b[0;32m     67\u001b[0m     number_of_pages \u001b[38;5;241m=\u001b[39m \u001b[38;5;28mlen\u001b[39m(image_paths)\n",
      "File \u001b[1;32md:\\dev\\PyATS\\.venv\\Lib\\site-packages\\unstructured_inference\\inference\\layout.py:400\u001b[0m, in \u001b[0;36mconvert_pdf_to_image\u001b[1;34m(filename, dpi, output_folder, path_only)\u001b[0m\n\u001b[0;32m    397\u001b[0m     \u001b[38;5;28;01mraise\u001b[39;00m \u001b[38;5;167;01mValueError\u001b[39;00m(\u001b[38;5;124m\"\u001b[39m\u001b[38;5;124moutput_folder must be specified if path_only is true\u001b[39m\u001b[38;5;124m\"\u001b[39m)\n\u001b[0;32m    399\u001b[0m \u001b[38;5;28;01mif\u001b[39;00m output_folder \u001b[38;5;129;01mis\u001b[39;00m \u001b[38;5;129;01mnot\u001b[39;00m \u001b[38;5;28;01mNone\u001b[39;00m:\n\u001b[1;32m--> 400\u001b[0m     images \u001b[38;5;241m=\u001b[39m \u001b[43mpdf2image\u001b[49m\u001b[38;5;241;43m.\u001b[39;49m\u001b[43mconvert_from_path\u001b[49m\u001b[43m(\u001b[49m\n\u001b[0;32m    401\u001b[0m \u001b[43m        \u001b[49m\u001b[43mfilename\u001b[49m\u001b[43m,\u001b[49m\n\u001b[0;32m    402\u001b[0m \u001b[43m        \u001b[49m\u001b[43mdpi\u001b[49m\u001b[38;5;241;43m=\u001b[39;49m\u001b[43mdpi\u001b[49m\u001b[43m,\u001b[49m\n\u001b[0;32m    403\u001b[0m \u001b[43m        \u001b[49m\u001b[43moutput_folder\u001b[49m\u001b[38;5;241;43m=\u001b[39;49m\u001b[43moutput_folder\u001b[49m\u001b[43m,\u001b[49m\n\u001b[0;32m    404\u001b[0m \u001b[43m        \u001b[49m\u001b[43mpaths_only\u001b[49m\u001b[38;5;241;43m=\u001b[39;49m\u001b[43mpath_only\u001b[49m\u001b[43m,\u001b[49m\n\u001b[0;32m    405\u001b[0m \u001b[43m    \u001b[49m\u001b[43m)\u001b[49m\n\u001b[0;32m    406\u001b[0m \u001b[38;5;28;01melse\u001b[39;00m:\n\u001b[0;32m    407\u001b[0m     images \u001b[38;5;241m=\u001b[39m pdf2image\u001b[38;5;241m.\u001b[39mconvert_from_path(\n\u001b[0;32m    408\u001b[0m         filename,\n\u001b[0;32m    409\u001b[0m         dpi\u001b[38;5;241m=\u001b[39mdpi,\n\u001b[0;32m    410\u001b[0m         paths_only\u001b[38;5;241m=\u001b[39mpath_only,\n\u001b[0;32m    411\u001b[0m     )\n",
      "File \u001b[1;32md:\\dev\\PyATS\\.venv\\Lib\\site-packages\\pdf2image\\pdf2image.py:127\u001b[0m, in \u001b[0;36mconvert_from_path\u001b[1;34m(pdf_path, dpi, output_folder, first_page, last_page, fmt, jpegopt, thread_count, userpw, ownerpw, use_cropbox, strict, transparent, single_file, output_file, poppler_path, grayscale, size, paths_only, use_pdftocairo, timeout, hide_annotations)\u001b[0m\n\u001b[0;32m    124\u001b[0m \u001b[38;5;28;01mif\u001b[39;00m \u001b[38;5;28misinstance\u001b[39m(poppler_path, PurePath):\n\u001b[0;32m    125\u001b[0m     poppler_path \u001b[38;5;241m=\u001b[39m poppler_path\u001b[38;5;241m.\u001b[39mas_posix()\n\u001b[1;32m--> 127\u001b[0m page_count \u001b[38;5;241m=\u001b[39m \u001b[43mpdfinfo_from_path\u001b[49m\u001b[43m(\u001b[49m\n\u001b[0;32m    128\u001b[0m \u001b[43m    \u001b[49m\u001b[43mpdf_path\u001b[49m\u001b[43m,\u001b[49m\u001b[43m \u001b[49m\u001b[43muserpw\u001b[49m\u001b[43m,\u001b[49m\u001b[43m \u001b[49m\u001b[43mownerpw\u001b[49m\u001b[43m,\u001b[49m\u001b[43m \u001b[49m\u001b[43mpoppler_path\u001b[49m\u001b[38;5;241;43m=\u001b[39;49m\u001b[43mpoppler_path\u001b[49m\n\u001b[0;32m    129\u001b[0m \u001b[43m\u001b[49m\u001b[43m)\u001b[49m[\u001b[38;5;124m\"\u001b[39m\u001b[38;5;124mPages\u001b[39m\u001b[38;5;124m\"\u001b[39m]\n\u001b[0;32m    131\u001b[0m \u001b[38;5;66;03m# We start by getting the output format, the buffer processing function and if we need pdftocairo\u001b[39;00m\n\u001b[0;32m    132\u001b[0m parsed_fmt, final_extension, parse_buffer_func, use_pdfcairo_format \u001b[38;5;241m=\u001b[39m _parse_format(\n\u001b[0;32m    133\u001b[0m     fmt, grayscale\n\u001b[0;32m    134\u001b[0m )\n",
      "File \u001b[1;32md:\\dev\\PyATS\\.venv\\Lib\\site-packages\\pdf2image\\pdf2image.py:607\u001b[0m, in \u001b[0;36mpdfinfo_from_path\u001b[1;34m(pdf_path, userpw, ownerpw, poppler_path, rawdates, timeout, first_page, last_page)\u001b[0m\n\u001b[0;32m    604\u001b[0m     \u001b[38;5;28;01mreturn\u001b[39;00m d\n\u001b[0;32m    606\u001b[0m \u001b[38;5;28;01mexcept\u001b[39;00m \u001b[38;5;167;01mOSError\u001b[39;00m:\n\u001b[1;32m--> 607\u001b[0m     \u001b[38;5;28;01mraise\u001b[39;00m PDFInfoNotInstalledError(\n\u001b[0;32m    608\u001b[0m         \u001b[38;5;124m\"\u001b[39m\u001b[38;5;124mUnable to get page count. Is poppler installed and in PATH?\u001b[39m\u001b[38;5;124m\"\u001b[39m\n\u001b[0;32m    609\u001b[0m     )\n\u001b[0;32m    610\u001b[0m \u001b[38;5;28;01mexcept\u001b[39;00m \u001b[38;5;167;01mValueError\u001b[39;00m:\n\u001b[0;32m    611\u001b[0m     \u001b[38;5;28;01mraise\u001b[39;00m PDFPageCountError(\n\u001b[0;32m    612\u001b[0m         \u001b[38;5;124mf\u001b[39m\u001b[38;5;124m\"\u001b[39m\u001b[38;5;124mUnable to get page count.\u001b[39m\u001b[38;5;130;01m\\n\u001b[39;00m\u001b[38;5;132;01m{\u001b[39;00merr\u001b[38;5;241m.\u001b[39mdecode(\u001b[38;5;124m'\u001b[39m\u001b[38;5;124mutf8\u001b[39m\u001b[38;5;124m'\u001b[39m,\u001b[38;5;250m \u001b[39m\u001b[38;5;124m'\u001b[39m\u001b[38;5;124mignore\u001b[39m\u001b[38;5;124m'\u001b[39m)\u001b[38;5;132;01m}\u001b[39;00m\u001b[38;5;124m\"\u001b[39m\n\u001b[0;32m    613\u001b[0m     )\n",
      "\u001b[1;31mPDFInfoNotInstalledError\u001b[0m: Unable to get page count. Is poppler installed and in PATH?"
     ]
    }
   ],
   "source": [
    "print(\"start partitioning\")\n",
    "# Returns a List[Element] present in the pages of the parsed pdf document\n",
    "elements_h = partition_pdf(\"pyATS_p1_30.pdf\", strategy=\"hi_res\")\n",
    "print(\"done partitioning pdf into elements\")\n"
   ]
  },
  {
   "cell_type": "code",
   "execution_count": 2,
   "metadata": {},
   "outputs": [],
   "source": [
    "####################create qa pairs using openAI with JSON output parser########\n",
    "import os\n",
    "from dotenv import load_dotenv\n",
    "from langchain_core.output_parsers import JsonOutputParser\n",
    "from langchain_core.prompts import PromptTemplate\n",
    "from langchain_openai import ChatOpenAI\n",
    "from pydantic import BaseModel, Field\n",
    "\n",
    "load_dotenv()\n",
    "os.environ[\"OPENAI_API_KEY\"] = os.getenv(\"OPENAI_API_KEY\")\n",
    "os.environ[\"OPENAI_MODEL_NAME\"] = 'gpt-4o'\n",
    "\n",
    "def create_qa_pairs(content):\n",
    "    # Define the output structure\n",
    "    class QAOutput(BaseModel):\n",
    "            question: str = Field(description=\"The question asked\")\n",
    "            answer: str = Field(description=\"The answer to the question\")\n",
    "\n",
    "    # Set up the output parser\n",
    "    parser = JsonOutputParser(pydantic_object=QAOutput)\n",
    "\n",
    "    # Create a prompt template\n",
    "    prompt = PromptTemplate(\n",
    "        template= '''Create 5 questions for a short-answer quiz in JSON format with keys “question“,”answer” \n",
    "        solely from the following information —-{content}—-\\n{format_instructions}\\n''',\n",
    "        input_variables=[\"content\"],\n",
    "        partial_variables={\"format_instructions\": parser.get_format_instructions()}\n",
    "    )\n",
    "\n",
    "    # Initialize the OpenAI LLM\n",
    "    model = ChatOpenAI(temperature=0)\n",
    "\n",
    "    # Generate the response\n",
    "\n",
    "    chain = prompt | model | parser\n",
    "    response = chain.invoke({\"content\": content})\n",
    "\n",
    "    return response"
   ]
  },
  {
   "cell_type": "code",
   "execution_count": 4,
   "metadata": {},
   "outputs": [],
   "source": [
    "test_output = create_qa_pairs(chunks2[100].text)"
   ]
  },
  {
   "cell_type": "code",
   "execution_count": 5,
   "metadata": {},
   "outputs": [
    {
     "name": "stdout",
     "output_type": "stream",
     "text": [
      "contant ---> Quality\n",
      "\n",
      "Above speed and agility, the number-one driver for NetDevOps is the quality of solu- tions. According to a recent Uptime Institute survey, “How to avoid outages: Try harder!,” 70–75% of data center failures are caused by human error, producing a chain effect of downtime. Additionally, more than 30% of IT services and data center operators experi- ence downtime or severe degradation of service. Also, 10% of the survey respondents reported that their most recent incident cost them more than $1 million. Elimination of human errors using NetDevOps methodology and automation tools like pyATS is the number-one driving factor for the adoption of IaC solutions. While moving faster and with more agility is definitely beneficial to the business, the reduction of human errors, and thus network outages, is paramount to a successful NetDevOps implementation.\n",
      "{'questions': [{'question': 'What is the number-one driver for NetDevOps?', 'answer': 'Quality of solutions'}, {'question': 'What percentage of data center failures are caused by human error?', 'answer': '70-75%'}, {'question': 'What percentage of IT services and data center operators experience downtime or severe degradation of service?', 'answer': 'More than 30%'}, {'question': 'What percentage of survey respondents reported that their most recent incident cost them more than $1 million?', 'answer': '10%'}, {'question': 'What is the number-one driving factor for the adoption of IaC solutions?', 'answer': 'Elimination of human errors using NetDevOps methodology and automation tools like pyATS'}]}\n"
     ]
    }
   ],
   "source": [
    "print(f\"contant ---> {chunks2[100].text}\")\n",
    "print(test_output)"
   ]
  },
  {
   "cell_type": "code",
   "execution_count": 1,
   "metadata": {},
   "outputs": [
    {
     "ename": "NameError",
     "evalue": "name 'chunks2' is not defined",
     "output_type": "error",
     "traceback": [
      "\u001b[1;31m---------------------------------------------------------------------------\u001b[0m",
      "\u001b[1;31mNameError\u001b[0m                                 Traceback (most recent call last)",
      "Cell \u001b[1;32mIn[1], line 1\u001b[0m\n\u001b[1;32m----> 1\u001b[0m \u001b[43mchunks2\u001b[49m\n",
      "\u001b[1;31mNameError\u001b[0m: name 'chunks2' is not defined"
     ]
    }
   ],
   "source": [
    "chunks2"
   ]
  },
  {
   "cell_type": "code",
   "execution_count": 14,
   "metadata": {},
   "outputs": [],
   "source": [
    "####################create qa pairs using openAI without JOSN output parser########\n",
    "import os\n",
    "from dotenv import load_dotenv\n",
    "from langchain_core.output_parsers import JsonOutputParser\n",
    "from langchain_core.prompts import PromptTemplate\n",
    "from langchain_openai import ChatOpenAI\n",
    "from pydantic import BaseModel, Field\n",
    "\n",
    "load_dotenv()\n",
    "os.environ[\"OPENAI_API_KEY\"] = os.getenv(\"OPENAI_API_KEY\")\n",
    "os.environ[\"OPENAI_MODEL_NAME\"] = 'gpt-4o'\n",
    "\n",
    "def create_qa_pairs2(content):\n",
    "    \n",
    "    # Create a prompt template\n",
    "    prompt = PromptTemplate(\n",
    "        template= '''Create 5 questions for a short-answer quiz in JSON format with keys “question“,”answer” \n",
    "        solely from the following information —-{content}—-''',\n",
    "        input_variables=[\"content\"]\n",
    "    )\n",
    "\n",
    "    # Initialize the OpenAI LLM\n",
    "    model = ChatOpenAI(temperature=0)\n",
    "\n",
    "    # Generate the response\n",
    "\n",
    "    chain = prompt | model\n",
    "    response = chain.invoke({\"content\": content})\n",
    "\n",
    "    return response"
   ]
  },
  {
   "cell_type": "code",
   "execution_count": 15,
   "metadata": {},
   "outputs": [],
   "source": [
    "test_output2 = create_qa_pairs2(chunks2[100].text)"
   ]
  },
  {
   "cell_type": "code",
   "execution_count": 24,
   "metadata": {},
   "outputs": [
    {
     "data": {
      "text/plain": [
       "'{\\n    \"quiz\": [\\n        {\\n            \"question\": \"What is the number-one driver for NetDevOps?\",\\n            \"answer\": \"Quality of solutions\"\\n        },\\n        {\\n            \"question\": \"What percentage of data center failures are caused by human error?\",\\n            \"answer\": \"70-75%\"\\n        },\\n        {\\n            \"question\": \"What percentage of IT services and data center operators experience downtime or severe degradation of service?\",\\n            \"answer\": \"More than 30%\"\\n        },\\n        {\\n            \"question\": \"What percentage of survey respondents reported that their most recent incident cost them more than $1 million?\",\\n            \"answer\": \"10%\"\\n        },\\n        {\\n            \"question\": \"What is the number-one driving factor for the adoption of IaC solutions?\",\\n            \"answer\": \"Elimination of human errors using NetDevOps methodology and automation tools like pyATS\"\\n        }\\n    ]\\n}'"
      ]
     },
     "execution_count": 24,
     "metadata": {},
     "output_type": "execute_result"
    }
   ],
   "source": [
    "test_output2.content"
   ]
  },
  {
   "cell_type": "code",
   "execution_count": 5,
   "metadata": {},
   "outputs": [
    {
     "name": "stderr",
     "output_type": "stream",
     "text": [
      "d:\\dev\\PyATS\\.venv\\Lib\\site-packages\\tqdm\\auto.py:21: TqdmWarning: IProgress not found. Please update jupyter and ipywidgets. See https://ipywidgets.readthedocs.io/en/stable/user_install.html\n",
      "  from .autonotebook import tqdm as notebook_tqdm\n"
     ]
    },
    {
     "name": "stdout",
     "output_type": "stream",
     "text": [
      "pyATS_p1_30.pdf\n",
      "start partitioning\n",
      "done partitioning pdf into elements\n",
      "start chunking\n",
      "done chunking\n",
      "118  chunks of text are created\n"
     ]
    }
   ],
   "source": [
    "from unstructured.partition.pdf import partition_pdf\n",
    "from unstructured.chunking.title import chunk_by_title\n",
    "import os\n",
    "from dotenv import load_dotenv\n",
    "from langchain_core.output_parsers import JsonOutputParser\n",
    "from langchain_core.prompts import PromptTemplate\n",
    "from langchain_openai import ChatOpenAI\n",
    "from pydantic import BaseModel, Field\n",
    "\n",
    "load_dotenv()\n",
    "os.environ[\"OPENAI_API_KEY\"] = os.getenv(\"OPENAI_API_KEY\")\n",
    "os.environ[\"OPENAI_MODEL_NAME\"] = 'gpt-4o'\n",
    "temperature = 0\n",
    "\n",
    "def chunk_document(filename): \n",
    "    print(\"start partitioning\")\n",
    "    \n",
    "    # Returns a List[Element] present in the pages of the parsed pdf document\n",
    "    elements = partition_pdf(filename)\n",
    "    print(\"done partitioning pdf into elements\")\n",
    "\n",
    "    # chunking the elements\n",
    "    #specify max characters for each chunk (2**8)*x where x = 4\n",
    "    print(\"start chunking\")\n",
    "    chunks = chunk_by_title(elements,max_characters=1024)\n",
    "    print(\"done chunking\")\n",
    "    \n",
    "    return chunks\n",
    "\n",
    "\n",
    "# create qa pairs using openAI without JSON output parser #\n",
    "\n",
    "def create_qa_pairs(content):\n",
    "    \n",
    "    # Create a prompt template\n",
    "    prompt = PromptTemplate(\n",
    "        template= '''Create 5 questions for a short-answer quiz in JSON format with keys “question“,”answer” \n",
    "        solely from the following information —-{content}—-''',\n",
    "        input_variables=[\"content\"]\n",
    "    )\n",
    "\n",
    "    # Initialize the OpenAI LLM\n",
    "    model = ChatOpenAI(temperature=temperature)\n",
    "\n",
    "    # Generate the response\n",
    "    chain = prompt | model\n",
    "    response = chain.invoke({\"content\": content})\n",
    "\n",
    "    return response\n",
    "\n",
    "# create qa pairs using openAI with JSON output parser#\n",
    "def create_qa_pairs_JSON_parser(content):\n",
    "    \n",
    "    # Define the output structure\n",
    "    class QAOutput(BaseModel):\n",
    "            question: str = Field(description=\"The question asked\")\n",
    "            answer: str = Field(description=\"The answer to the question\")\n",
    "\n",
    "    # Set up the output parser\n",
    "    parser = JsonOutputParser(pydantic_object=QAOutput)\n",
    "\n",
    "    # Create a prompt template\n",
    "    prompt = PromptTemplate(\n",
    "        template= '''Create 5 questions for a short-answer quiz in JSON format with keys “question“,”answer” \n",
    "        solely from the following information —-{content}—-\\n{format_instructions}\\n''',\n",
    "        input_variables=[\"content\"],\n",
    "        partial_variables={\"format_instructions\": parser.get_format_instructions()}\n",
    "    )\n",
    "\n",
    "    # Initialize the OpenAI LLM\n",
    "    model = ChatOpenAI(temperature=temperature)\n",
    "\n",
    "    # Generate the response\n",
    "    chain = prompt | model | parser\n",
    "    response = chain.invoke({\"content\": content})\n",
    "\n",
    "    return response\n",
    "\n",
    "\n",
    "# partitioning pdf document and create chunks\n",
    "filename = \"pyATS_p1_30.pdf\"\n",
    "print(filename)\n",
    "chunks = chunk_document(filename)\n",
    "\n",
    "print(f\"{len(chunks)}  chunks of text are created\")\n"
   ]
  },
  {
   "cell_type": "code",
   "execution_count": 6,
   "metadata": {},
   "outputs": [
    {
     "data": {
      "text/plain": [
       "'ptg45047941\\n\\nFrom the Library of Tos Chaiwong\\n\\nxxx Cisco pyATS—Network Test and Automation Solution\\n\\nIntroduction\\n\\nThis book was written to explore the powerful capabilities of automated network test- ing with the Cisco pyATS framework. Network testing and validation is a low-risk, yet powerful domain in the network automation space. This book is organized to address the multiple features of pyATS and the pyATS library (Genie). Readers will learn why network testing and validation are important, how pyATS can be leveraged to run tests against network devices, and how to integrate pyATS into larger workflows using CI/CD pipelines and artificial intelligence (AI).'"
      ]
     },
     "execution_count": 6,
     "metadata": {},
     "output_type": "execute_result"
    }
   ],
   "source": [
    "chunks[0].text"
   ]
  },
  {
   "cell_type": "code",
   "execution_count": 20,
   "metadata": {},
   "outputs": [
    {
     "name": "stdout",
     "output_type": "stream",
     "text": [
      "--------------------------------\n",
      "ptg45047941\n",
      "\n",
      "From the Library of Tos Chaiwong\n",
      "\n",
      "xxx Cisco pyATS—Network Test and Automation Solution\n",
      "\n",
      "Introduction\n",
      "\n",
      "This book was written to explore the powerful capabilities of automated network test- ing with the Cisco pyATS framework. Network testing and validation is a low-risk, yet powerful domain in the network automation space. This book is organized to address the multiple features of pyATS and the pyATS library (Genie). Readers will learn why network testing and validation are important, how pyATS can be leveraged to run tests against network devices, and how to integrate pyATS into larger workflows using CI/CD pipelines and artificial intelligence (AI).\n",
      "--------------------------------\n",
      "{'questions': [{'question': \"What is the purpose of the book 'Cisco pyATS—Network Test and Automation Solution'?\", 'answer': 'To explore the powerful capabilities of automated network testing with the Cisco pyATS framework.'}, {'question': 'What is the importance of network testing and validation according to the book?', 'answer': 'It is a low-risk, yet powerful domain in the network automation space.'}, {'question': 'What is the name of the library associated with pyATS mentioned in the book?', 'answer': 'Genie'}, {'question': 'How can pyATS be leveraged to run tests against network devices?', 'answer': 'By using the capabilities of the pyATS framework.'}, {'question': 'How can pyATS be integrated into larger workflows according to the book?', 'answer': 'Using CI/CD pipelines and artificial intelligence (AI).'}]}\n",
      "[{'question': \"What is the purpose of the book 'Cisco pyATS—Network Test and Automation Solution'?\", 'answer': 'To explore the powerful capabilities of automated network testing with the Cisco pyATS framework.'}, {'question': 'What is the importance of network testing and validation according to the book?', 'answer': 'It is a low-risk, yet powerful domain in the network automation space.'}, {'question': 'What is the name of the library associated with pyATS mentioned in the book?', 'answer': 'Genie'}, {'question': 'How can pyATS be leveraged to run tests against network devices?', 'answer': 'By using the capabilities of the pyATS framework.'}, {'question': 'How can pyATS be integrated into larger workflows according to the book?', 'answer': 'Using CI/CD pipelines and artificial intelligence (AI).'}]\n"
     ]
    },
    {
     "ename": "TypeError",
     "evalue": "list indices must be integers or slices, not str",
     "output_type": "error",
     "traceback": [
      "\u001b[1;31m---------------------------------------------------------------------------\u001b[0m",
      "\u001b[1;31mTypeError\u001b[0m                                 Traceback (most recent call last)",
      "Cell \u001b[1;32mIn[20], line 17\u001b[0m\n\u001b[0;32m     15\u001b[0m      \u001b[38;5;28;01mfor\u001b[39;00m k, v \u001b[38;5;129;01min\u001b[39;00m qa_output\u001b[38;5;241m.\u001b[39mitems():\n\u001b[0;32m     16\u001b[0m           \u001b[38;5;28mprint\u001b[39m(v)\n\u001b[1;32m---> 17\u001b[0m           \u001b[38;5;28mprint\u001b[39m(\u001b[43mv\u001b[49m\u001b[43m[\u001b[49m\u001b[38;5;124;43m\"\u001b[39;49m\u001b[38;5;124;43mquestion\u001b[39;49m\u001b[38;5;124;43m\"\u001b[39;49m\u001b[43m]\u001b[49m)\n\u001b[0;32m     18\u001b[0m           \u001b[38;5;28mprint\u001b[39m(v[\u001b[38;5;124m\"\u001b[39m\u001b[38;5;124manswer\u001b[39m\u001b[38;5;124m\"\u001b[39m])\n\u001b[0;32m     19\u001b[0m           \u001b[38;5;66;03m#question.append(v[\"question\"])\u001b[39;00m\n\u001b[0;32m     20\u001b[0m           \u001b[38;5;66;03m#answer.append(v[\"answer\"])\u001b[39;00m\n\u001b[0;32m     21\u001b[0m \n\u001b[0;32m     22\u001b[0m \u001b[38;5;66;03m# print out the final list of questions and answers #\u001b[39;00m\n",
      "\u001b[1;31mTypeError\u001b[0m: list indices must be integers or slices, not str"
     ]
    }
   ],
   "source": [
    "# generate question-answer pairs to be the data for model finetuning \n",
    "n = 2\n",
    "j = 15\n",
    "question = [] # list of questions\n",
    "answer = []   # list of answers\n",
    "\n",
    "for i in range(0,n):\n",
    "     qa_output = create_qa_pairs_JSON_parser(chunks[i].text)\n",
    "     #qa_output = create_qa_pairs(chunks[i].text)\n",
    "     print(\"--------------------------------\")\n",
    "     print(chunks[i].text)\n",
    "     print(\"--------------------------------\")\n",
    "     print(qa_output)\n",
    "     \n",
    "     for k, v in qa_output.items():\n",
    "          print(v)\n",
    "          print(v[\"question\"])\n",
    "          print(v[\"answer\"])\n",
    "          #question.append(v[\"question\"])\n",
    "          #answer.append(v[\"answer\"])\n",
    "\n",
    "# print out the final list of questions and answers #\n",
    "print(\"-------------questions---------------\")\n",
    "print(question)\n",
    "print(\"-------------answers---------------\")\n",
    "print(answer)\n"
   ]
  },
  {
   "cell_type": "code",
   "execution_count": 8,
   "metadata": {},
   "outputs": [
    {
     "data": {
      "text/plain": [
       "{'question1': {'question': \"What is the purpose of the book 'Cisco pyATS—Network Test and Automation Solution'?\",\n",
       "  'answer': 'To explore the powerful capabilities of automated network testing with the Cisco pyATS framework.'},\n",
       " 'question2': {'question': 'What is the importance of network testing and validation according to the book?',\n",
       "  'answer': 'It is a low-risk, yet powerful domain in the network automation space.'},\n",
       " 'question3': {'question': 'What is the main library discussed in the book for network testing?',\n",
       "  'answer': 'pyATS and the pyATS library (Genie).'},\n",
       " 'question4': {'question': 'How can pyATS be leveraged to run tests against network devices?',\n",
       "  'answer': 'By integrating pyATS into larger workflows using CI/CD pipelines and artificial intelligence (AI).'},\n",
       " 'question5': {'question': 'What will readers learn from the book?',\n",
       "  'answer': 'Readers will learn why network testing and validation are important, how to use pyATS for testing, and how to integrate pyATS into larger workflows.'}}"
      ]
     },
     "execution_count": 8,
     "metadata": {},
     "output_type": "execute_result"
    }
   ],
   "source": [
    "qa_output"
   ]
  },
  {
   "cell_type": "code",
   "execution_count": 9,
   "metadata": {},
   "outputs": [
    {
     "data": {
      "text/plain": [
       "dict"
      ]
     },
     "execution_count": 9,
     "metadata": {},
     "output_type": "execute_result"
    }
   ],
   "source": [
    "type(qa_output)"
   ]
  },
  {
   "cell_type": "code",
   "execution_count": 17,
   "metadata": {},
   "outputs": [
    {
     "name": "stdout",
     "output_type": "stream",
     "text": [
      "{'question': \"What is the purpose of the book 'Cisco pyATS—Network Test and Automation Solution'?\", 'answer': 'To explore the powerful capabilities of automated network testing with the Cisco pyATS framework.'}\n",
      "What is the purpose of the book 'Cisco pyATS—Network Test and Automation Solution'?\n",
      "To explore the powerful capabilities of automated network testing with the Cisco pyATS framework.\n",
      "{'question': 'What is the importance of network testing and validation according to the book?', 'answer': 'It is a low-risk, yet powerful domain in the network automation space.'}\n",
      "What is the importance of network testing and validation according to the book?\n",
      "It is a low-risk, yet powerful domain in the network automation space.\n",
      "{'question': 'What is the main library discussed in the book for network testing?', 'answer': 'pyATS and the pyATS library (Genie).'}\n",
      "What is the main library discussed in the book for network testing?\n",
      "pyATS and the pyATS library (Genie).\n",
      "{'question': 'How can pyATS be leveraged to run tests against network devices?', 'answer': 'By integrating pyATS into larger workflows using CI/CD pipelines and artificial intelligence (AI).'}\n",
      "How can pyATS be leveraged to run tests against network devices?\n",
      "By integrating pyATS into larger workflows using CI/CD pipelines and artificial intelligence (AI).\n",
      "{'question': 'What will readers learn from the book?', 'answer': 'Readers will learn why network testing and validation are important, how to use pyATS for testing, and how to integrate pyATS into larger workflows.'}\n",
      "What will readers learn from the book?\n",
      "Readers will learn why network testing and validation are important, how to use pyATS for testing, and how to integrate pyATS into larger workflows.\n",
      "-------------questions---------------\n",
      "[\"What is the purpose of the book 'Cisco pyATS—Network Test and Automation Solution'?\", 'What is the importance of network testing and validation according to the book?', 'What is the main library discussed in the book for network testing?', 'How can pyATS be leveraged to run tests against network devices?', 'What will readers learn from the book?']\n",
      "-------------answers---------------\n",
      "['To explore the powerful capabilities of automated network testing with the Cisco pyATS framework.', 'It is a low-risk, yet powerful domain in the network automation space.', 'pyATS and the pyATS library (Genie).', 'By integrating pyATS into larger workflows using CI/CD pipelines and artificial intelligence (AI).', 'Readers will learn why network testing and validation are important, how to use pyATS for testing, and how to integrate pyATS into larger workflows.']\n"
     ]
    }
   ],
   "source": [
    "question = []\n",
    "answer = []\n",
    "for k, v in qa_output.items():\n",
    "    print(v)\n",
    "    print(v[\"question\"])\n",
    "    print(v[\"answer\"])\n",
    "    question.append(v[\"question\"])\n",
    "    answer.append(v[\"answer\"])\n",
    "print(\"-------------questions---------------\")\n",
    "print(question)\n",
    "print(\"-------------answers---------------\")\n",
    "print(answer)\n"
   ]
  },
  {
   "cell_type": "code",
   "execution_count": 22,
   "metadata": {},
   "outputs": [
    {
     "name": "stdout",
     "output_type": "stream",
     "text": [
      "{\"name\": \"Bruno Mars\", \"birth_place\": \"Honolulu, Hawaii\"}\n"
     ]
    }
   ],
   "source": [
    "from langchain_ollama import ChatOllama\n",
    "\n",
    "json_llm = ChatOllama(\n",
    "    model = \"llama3.2\",\n",
    "    temperature = 0,\n",
    "    format=\"json\"\n",
    ")\n",
    "\n",
    "messages = [\n",
    "    (\"human\", \"who is Bruno mars with two keys: name and birth place. Respond using JSON only.\"),\n",
    "]\n",
    "response = json_llm.invoke(messages).content\n",
    "print(response)"
   ]
  },
  {
   "cell_type": "code",
   "execution_count": 17,
   "metadata": {},
   "outputs": [
    {
     "name": "stdout",
     "output_type": "stream",
     "text": [
      "{\"questions\": [{\"question\": \"What is the main focus of this book?\", \"answer\": \"The powerful capabilities of automated network testing with the Cisco pyATS framework.\"}],\"keys\": {\"1\": \"What is the main focus of this book?\", \"2\": \"The powerful capabilities of automated network testing with the Cisco pyATS framework.\"}}\n"
     ]
    }
   ],
   "source": [
    "from langchain_ollama import ChatOllama\n",
    "\n",
    "json_llm = ChatOllama(\n",
    "    model = \"llama3.2\",\n",
    "    temperature = 0,\n",
    "    format=\"json\"\n",
    ")\n",
    "\n",
    "messages = [\n",
    "    (\"human\", \"Create 2 questions for a short-answer quiz from the information below with two keys: question and answer. Respond using JSON only. Information : Introduction This book was written to explore the powerful capabilities of automated network test- ing with the Cisco pyATS framework. Network testing and validation is a low-risk, yet powerful domain in the network automation space. This book is organized to address the multiple features of pyATS and the pyATS library (Genie). Readers will learn why network testing and validation are important, how pyATS can be leveraged to run tests against network devices, and how to integrate pyATS into larger workflows using CI/CD pipelines and artificial intelligence (AI).\"),\n",
    "]\n",
    "response = json_llm.invoke(messages).content\n",
    "print(response)"
   ]
  },
  {
   "cell_type": "code",
   "execution_count": 23,
   "metadata": {},
   "outputs": [
    {
     "name": "stdout",
     "output_type": "stream",
     "text": [
      "Here are 5 question-answer pairs in JSON format:\n",
      "\n",
      "```\n",
      "[\n",
      "    {\n",
      "        \"question\": \"What is the main focus of this book?\",\n",
      "        \"answer\": \"The main focus of this book is to explore the powerful capabilities of automated network testing with the Cisco pyATS framework.\"\n",
      "    },\n",
      "    {\n",
      "        \"question\": \"Why is network testing and validation considered a low-risk yet powerful domain in the network automation space?\",\n",
      "        \"answer\": \"Network testing and validation is considered a low-risk yet powerful domain because it offers significant benefits without exposing the network to high risks.\"\n",
      "    },\n",
      "    {\n",
      "        \"question\": \"What topics will readers learn about in this book?\",\n",
      "        \"answer\": \"Readers will learn why network testing and validation are important, how pyATS can be leveraged to run tests against network devices, and how to integrate pyATS into larger workflows using CI/CD pipelines and artificial intelligence (AI).\"\n",
      "    },\n",
      "    {\n",
      "        \"question\": \"What is the purpose of the pyATS library (Genie)?\",\n",
      "        \"answer\": \"The purpose of the pyATS library (Genie) is not explicitly mentioned in the provided text, but it can be inferred that it is used to integrate pyATS into larger workflows using CI/CD pipelines and artificial intelligence (AI).\"\n",
      "    },\n",
      "    {\n",
      "        \"question\": \"What tools or technologies will readers learn about in this book?\",\n",
      "        \"answer\": \"Readers will learn about pyATS framework, network devices, CI/CD pipelines, and artificial intelligence (AI) as part of integrating pyATS into larger workflows.\"\n",
      "    }\n",
      "]\n",
      "```\n"
     ]
    }
   ],
   "source": [
    "from langchain_ollama import ChatOllama\n",
    "\n",
    "llm = ChatOllama(\n",
    "    model = \"llama3.2\",\n",
    "    temperature = 0,\n",
    ")\n",
    "\n",
    "messages = [\n",
    "    (\"human\", \"Create 5 question-answer pairs for a short-answer quiz in JSON format with keys “question“,”answer” solely from the following information —-Introduction This book was written to explore the powerful capabilities of automated network test- ing with the Cisco pyATS framework. Network testing and validation is a low-risk, yet powerful domain in the network automation space. This book is organized to address the multiple features of pyATS and the pyATS library (Genie). Readers will learn why network testing and validation are important, how pyATS can be leveraged to run tests against network devices, and how to integrate pyATS into larger workflows using CI/CD pipelines and artificial intelligence (AI).---\"),\n",
    "]\n",
    "response = llm.invoke(messages).content\n",
    "print(response)"
   ]
  },
  {
   "cell_type": "code",
   "execution_count": 16,
   "metadata": {},
   "outputs": [
    {
     "ename": "ResponseError",
     "evalue": "llama runner process has terminated: exit status 2",
     "output_type": "error",
     "traceback": [
      "\u001b[1;31m---------------------------------------------------------------------------\u001b[0m",
      "\u001b[1;31mResponseError\u001b[0m                             Traceback (most recent call last)",
      "Cell \u001b[1;32mIn[16], line 11\u001b[0m\n\u001b[0;32m      3\u001b[0m llm \u001b[38;5;241m=\u001b[39m ChatOllama(\n\u001b[0;32m      4\u001b[0m     model \u001b[38;5;241m=\u001b[39m \u001b[38;5;124m\"\u001b[39m\u001b[38;5;124mllama3.2\u001b[39m\u001b[38;5;124m\"\u001b[39m,\n\u001b[0;32m      5\u001b[0m     temperature \u001b[38;5;241m=\u001b[39m \u001b[38;5;241m0\u001b[39m,\n\u001b[0;32m      6\u001b[0m )\n\u001b[0;32m      8\u001b[0m messages \u001b[38;5;241m=\u001b[39m [\n\u001b[0;32m      9\u001b[0m     (\u001b[38;5;124m\"\u001b[39m\u001b[38;5;124mhuman\u001b[39m\u001b[38;5;124m\"\u001b[39m, \u001b[38;5;124m\"\u001b[39m\u001b[38;5;124mCreate 5 question-answer pairs for a short-answer quiz in JSON format with keys “question“,”answer” solely from the following information —-Introduction This book was written to explore the powerful capabilities of automated network test- ing with the Cisco pyATS framework. Network testing and validation is a low-risk, yet powerful domain in the network automation space. This book is organized to address the multiple features of pyATS and the pyATS library (Genie). Readers will learn why network testing and validation are important, how pyATS can be leveraged to run tests against network devices, and how to integrate pyATS into larger workflows using CI/CD pipelines and artificial intelligence (AI).---\u001b[39m\u001b[38;5;124m\"\u001b[39m),\n\u001b[0;32m     10\u001b[0m ]\n\u001b[1;32m---> 11\u001b[0m response \u001b[38;5;241m=\u001b[39m \u001b[43mllm\u001b[49m\u001b[38;5;241;43m.\u001b[39;49m\u001b[43minvoke\u001b[49m\u001b[43m(\u001b[49m\u001b[43mmessages\u001b[49m\u001b[43m)\u001b[49m\u001b[38;5;241m.\u001b[39mcontent\n\u001b[0;32m     12\u001b[0m \u001b[38;5;28mprint\u001b[39m(response)\n",
      "File \u001b[1;32md:\\dev\\PyATS\\.venv\\Lib\\site-packages\\langchain_core\\language_models\\chat_models.py:286\u001b[0m, in \u001b[0;36mBaseChatModel.invoke\u001b[1;34m(self, input, config, stop, **kwargs)\u001b[0m\n\u001b[0;32m    275\u001b[0m \u001b[38;5;28;01mdef\u001b[39;00m \u001b[38;5;21minvoke\u001b[39m(\n\u001b[0;32m    276\u001b[0m     \u001b[38;5;28mself\u001b[39m,\n\u001b[0;32m    277\u001b[0m     \u001b[38;5;28minput\u001b[39m: LanguageModelInput,\n\u001b[1;32m   (...)\u001b[0m\n\u001b[0;32m    281\u001b[0m     \u001b[38;5;241m*\u001b[39m\u001b[38;5;241m*\u001b[39mkwargs: Any,\n\u001b[0;32m    282\u001b[0m ) \u001b[38;5;241m-\u001b[39m\u001b[38;5;241m>\u001b[39m BaseMessage:\n\u001b[0;32m    283\u001b[0m     config \u001b[38;5;241m=\u001b[39m ensure_config(config)\n\u001b[0;32m    284\u001b[0m     \u001b[38;5;28;01mreturn\u001b[39;00m cast(\n\u001b[0;32m    285\u001b[0m         ChatGeneration,\n\u001b[1;32m--> 286\u001b[0m         \u001b[38;5;28;43mself\u001b[39;49m\u001b[38;5;241;43m.\u001b[39;49m\u001b[43mgenerate_prompt\u001b[49m\u001b[43m(\u001b[49m\n\u001b[0;32m    287\u001b[0m \u001b[43m            \u001b[49m\u001b[43m[\u001b[49m\u001b[38;5;28;43mself\u001b[39;49m\u001b[38;5;241;43m.\u001b[39;49m\u001b[43m_convert_input\u001b[49m\u001b[43m(\u001b[49m\u001b[38;5;28;43minput\u001b[39;49m\u001b[43m)\u001b[49m\u001b[43m]\u001b[49m\u001b[43m,\u001b[49m\n\u001b[0;32m    288\u001b[0m \u001b[43m            \u001b[49m\u001b[43mstop\u001b[49m\u001b[38;5;241;43m=\u001b[39;49m\u001b[43mstop\u001b[49m\u001b[43m,\u001b[49m\n\u001b[0;32m    289\u001b[0m \u001b[43m            \u001b[49m\u001b[43mcallbacks\u001b[49m\u001b[38;5;241;43m=\u001b[39;49m\u001b[43mconfig\u001b[49m\u001b[38;5;241;43m.\u001b[39;49m\u001b[43mget\u001b[49m\u001b[43m(\u001b[49m\u001b[38;5;124;43m\"\u001b[39;49m\u001b[38;5;124;43mcallbacks\u001b[39;49m\u001b[38;5;124;43m\"\u001b[39;49m\u001b[43m)\u001b[49m\u001b[43m,\u001b[49m\n\u001b[0;32m    290\u001b[0m \u001b[43m            \u001b[49m\u001b[43mtags\u001b[49m\u001b[38;5;241;43m=\u001b[39;49m\u001b[43mconfig\u001b[49m\u001b[38;5;241;43m.\u001b[39;49m\u001b[43mget\u001b[49m\u001b[43m(\u001b[49m\u001b[38;5;124;43m\"\u001b[39;49m\u001b[38;5;124;43mtags\u001b[39;49m\u001b[38;5;124;43m\"\u001b[39;49m\u001b[43m)\u001b[49m\u001b[43m,\u001b[49m\n\u001b[0;32m    291\u001b[0m \u001b[43m            \u001b[49m\u001b[43mmetadata\u001b[49m\u001b[38;5;241;43m=\u001b[39;49m\u001b[43mconfig\u001b[49m\u001b[38;5;241;43m.\u001b[39;49m\u001b[43mget\u001b[49m\u001b[43m(\u001b[49m\u001b[38;5;124;43m\"\u001b[39;49m\u001b[38;5;124;43mmetadata\u001b[39;49m\u001b[38;5;124;43m\"\u001b[39;49m\u001b[43m)\u001b[49m\u001b[43m,\u001b[49m\n\u001b[0;32m    292\u001b[0m \u001b[43m            \u001b[49m\u001b[43mrun_name\u001b[49m\u001b[38;5;241;43m=\u001b[39;49m\u001b[43mconfig\u001b[49m\u001b[38;5;241;43m.\u001b[39;49m\u001b[43mget\u001b[49m\u001b[43m(\u001b[49m\u001b[38;5;124;43m\"\u001b[39;49m\u001b[38;5;124;43mrun_name\u001b[39;49m\u001b[38;5;124;43m\"\u001b[39;49m\u001b[43m)\u001b[49m\u001b[43m,\u001b[49m\n\u001b[0;32m    293\u001b[0m \u001b[43m            \u001b[49m\u001b[43mrun_id\u001b[49m\u001b[38;5;241;43m=\u001b[39;49m\u001b[43mconfig\u001b[49m\u001b[38;5;241;43m.\u001b[39;49m\u001b[43mpop\u001b[49m\u001b[43m(\u001b[49m\u001b[38;5;124;43m\"\u001b[39;49m\u001b[38;5;124;43mrun_id\u001b[39;49m\u001b[38;5;124;43m\"\u001b[39;49m\u001b[43m,\u001b[49m\u001b[43m \u001b[49m\u001b[38;5;28;43;01mNone\u001b[39;49;00m\u001b[43m)\u001b[49m\u001b[43m,\u001b[49m\n\u001b[0;32m    294\u001b[0m \u001b[43m            \u001b[49m\u001b[38;5;241;43m*\u001b[39;49m\u001b[38;5;241;43m*\u001b[39;49m\u001b[43mkwargs\u001b[49m\u001b[43m,\u001b[49m\n\u001b[0;32m    295\u001b[0m \u001b[43m        \u001b[49m\u001b[43m)\u001b[49m\u001b[38;5;241m.\u001b[39mgenerations[\u001b[38;5;241m0\u001b[39m][\u001b[38;5;241m0\u001b[39m],\n\u001b[0;32m    296\u001b[0m     )\u001b[38;5;241m.\u001b[39mmessage\n",
      "File \u001b[1;32md:\\dev\\PyATS\\.venv\\Lib\\site-packages\\langchain_core\\language_models\\chat_models.py:786\u001b[0m, in \u001b[0;36mBaseChatModel.generate_prompt\u001b[1;34m(self, prompts, stop, callbacks, **kwargs)\u001b[0m\n\u001b[0;32m    778\u001b[0m \u001b[38;5;28;01mdef\u001b[39;00m \u001b[38;5;21mgenerate_prompt\u001b[39m(\n\u001b[0;32m    779\u001b[0m     \u001b[38;5;28mself\u001b[39m,\n\u001b[0;32m    780\u001b[0m     prompts: \u001b[38;5;28mlist\u001b[39m[PromptValue],\n\u001b[1;32m   (...)\u001b[0m\n\u001b[0;32m    783\u001b[0m     \u001b[38;5;241m*\u001b[39m\u001b[38;5;241m*\u001b[39mkwargs: Any,\n\u001b[0;32m    784\u001b[0m ) \u001b[38;5;241m-\u001b[39m\u001b[38;5;241m>\u001b[39m LLMResult:\n\u001b[0;32m    785\u001b[0m     prompt_messages \u001b[38;5;241m=\u001b[39m [p\u001b[38;5;241m.\u001b[39mto_messages() \u001b[38;5;28;01mfor\u001b[39;00m p \u001b[38;5;129;01min\u001b[39;00m prompts]\n\u001b[1;32m--> 786\u001b[0m     \u001b[38;5;28;01mreturn\u001b[39;00m \u001b[38;5;28;43mself\u001b[39;49m\u001b[38;5;241;43m.\u001b[39;49m\u001b[43mgenerate\u001b[49m\u001b[43m(\u001b[49m\u001b[43mprompt_messages\u001b[49m\u001b[43m,\u001b[49m\u001b[43m \u001b[49m\u001b[43mstop\u001b[49m\u001b[38;5;241;43m=\u001b[39;49m\u001b[43mstop\u001b[49m\u001b[43m,\u001b[49m\u001b[43m \u001b[49m\u001b[43mcallbacks\u001b[49m\u001b[38;5;241;43m=\u001b[39;49m\u001b[43mcallbacks\u001b[49m\u001b[43m,\u001b[49m\u001b[43m \u001b[49m\u001b[38;5;241;43m*\u001b[39;49m\u001b[38;5;241;43m*\u001b[39;49m\u001b[43mkwargs\u001b[49m\u001b[43m)\u001b[49m\n",
      "File \u001b[1;32md:\\dev\\PyATS\\.venv\\Lib\\site-packages\\langchain_core\\language_models\\chat_models.py:643\u001b[0m, in \u001b[0;36mBaseChatModel.generate\u001b[1;34m(self, messages, stop, callbacks, tags, metadata, run_name, run_id, **kwargs)\u001b[0m\n\u001b[0;32m    641\u001b[0m         \u001b[38;5;28;01mif\u001b[39;00m run_managers:\n\u001b[0;32m    642\u001b[0m             run_managers[i]\u001b[38;5;241m.\u001b[39mon_llm_error(e, response\u001b[38;5;241m=\u001b[39mLLMResult(generations\u001b[38;5;241m=\u001b[39m[]))\n\u001b[1;32m--> 643\u001b[0m         \u001b[38;5;28;01mraise\u001b[39;00m e\n\u001b[0;32m    644\u001b[0m flattened_outputs \u001b[38;5;241m=\u001b[39m [\n\u001b[0;32m    645\u001b[0m     LLMResult(generations\u001b[38;5;241m=\u001b[39m[res\u001b[38;5;241m.\u001b[39mgenerations], llm_output\u001b[38;5;241m=\u001b[39mres\u001b[38;5;241m.\u001b[39mllm_output)  \u001b[38;5;66;03m# type: ignore[list-item]\u001b[39;00m\n\u001b[0;32m    646\u001b[0m     \u001b[38;5;28;01mfor\u001b[39;00m res \u001b[38;5;129;01min\u001b[39;00m results\n\u001b[0;32m    647\u001b[0m ]\n\u001b[0;32m    648\u001b[0m llm_output \u001b[38;5;241m=\u001b[39m \u001b[38;5;28mself\u001b[39m\u001b[38;5;241m.\u001b[39m_combine_llm_outputs([res\u001b[38;5;241m.\u001b[39mllm_output \u001b[38;5;28;01mfor\u001b[39;00m res \u001b[38;5;129;01min\u001b[39;00m results])\n",
      "File \u001b[1;32md:\\dev\\PyATS\\.venv\\Lib\\site-packages\\langchain_core\\language_models\\chat_models.py:633\u001b[0m, in \u001b[0;36mBaseChatModel.generate\u001b[1;34m(self, messages, stop, callbacks, tags, metadata, run_name, run_id, **kwargs)\u001b[0m\n\u001b[0;32m    630\u001b[0m \u001b[38;5;28;01mfor\u001b[39;00m i, m \u001b[38;5;129;01min\u001b[39;00m \u001b[38;5;28menumerate\u001b[39m(messages):\n\u001b[0;32m    631\u001b[0m     \u001b[38;5;28;01mtry\u001b[39;00m:\n\u001b[0;32m    632\u001b[0m         results\u001b[38;5;241m.\u001b[39mappend(\n\u001b[1;32m--> 633\u001b[0m             \u001b[38;5;28;43mself\u001b[39;49m\u001b[38;5;241;43m.\u001b[39;49m\u001b[43m_generate_with_cache\u001b[49m\u001b[43m(\u001b[49m\n\u001b[0;32m    634\u001b[0m \u001b[43m                \u001b[49m\u001b[43mm\u001b[49m\u001b[43m,\u001b[49m\n\u001b[0;32m    635\u001b[0m \u001b[43m                \u001b[49m\u001b[43mstop\u001b[49m\u001b[38;5;241;43m=\u001b[39;49m\u001b[43mstop\u001b[49m\u001b[43m,\u001b[49m\n\u001b[0;32m    636\u001b[0m \u001b[43m                \u001b[49m\u001b[43mrun_manager\u001b[49m\u001b[38;5;241;43m=\u001b[39;49m\u001b[43mrun_managers\u001b[49m\u001b[43m[\u001b[49m\u001b[43mi\u001b[49m\u001b[43m]\u001b[49m\u001b[43m \u001b[49m\u001b[38;5;28;43;01mif\u001b[39;49;00m\u001b[43m \u001b[49m\u001b[43mrun_managers\u001b[49m\u001b[43m \u001b[49m\u001b[38;5;28;43;01melse\u001b[39;49;00m\u001b[43m \u001b[49m\u001b[38;5;28;43;01mNone\u001b[39;49;00m\u001b[43m,\u001b[49m\n\u001b[0;32m    637\u001b[0m \u001b[43m                \u001b[49m\u001b[38;5;241;43m*\u001b[39;49m\u001b[38;5;241;43m*\u001b[39;49m\u001b[43mkwargs\u001b[49m\u001b[43m,\u001b[49m\n\u001b[0;32m    638\u001b[0m \u001b[43m            \u001b[49m\u001b[43m)\u001b[49m\n\u001b[0;32m    639\u001b[0m         )\n\u001b[0;32m    640\u001b[0m     \u001b[38;5;28;01mexcept\u001b[39;00m \u001b[38;5;167;01mBaseException\u001b[39;00m \u001b[38;5;28;01mas\u001b[39;00m e:\n\u001b[0;32m    641\u001b[0m         \u001b[38;5;28;01mif\u001b[39;00m run_managers:\n",
      "File \u001b[1;32md:\\dev\\PyATS\\.venv\\Lib\\site-packages\\langchain_core\\language_models\\chat_models.py:851\u001b[0m, in \u001b[0;36mBaseChatModel._generate_with_cache\u001b[1;34m(self, messages, stop, run_manager, **kwargs)\u001b[0m\n\u001b[0;32m    849\u001b[0m \u001b[38;5;28;01melse\u001b[39;00m:\n\u001b[0;32m    850\u001b[0m     \u001b[38;5;28;01mif\u001b[39;00m inspect\u001b[38;5;241m.\u001b[39msignature(\u001b[38;5;28mself\u001b[39m\u001b[38;5;241m.\u001b[39m_generate)\u001b[38;5;241m.\u001b[39mparameters\u001b[38;5;241m.\u001b[39mget(\u001b[38;5;124m\"\u001b[39m\u001b[38;5;124mrun_manager\u001b[39m\u001b[38;5;124m\"\u001b[39m):\n\u001b[1;32m--> 851\u001b[0m         result \u001b[38;5;241m=\u001b[39m \u001b[38;5;28;43mself\u001b[39;49m\u001b[38;5;241;43m.\u001b[39;49m\u001b[43m_generate\u001b[49m\u001b[43m(\u001b[49m\n\u001b[0;32m    852\u001b[0m \u001b[43m            \u001b[49m\u001b[43mmessages\u001b[49m\u001b[43m,\u001b[49m\u001b[43m \u001b[49m\u001b[43mstop\u001b[49m\u001b[38;5;241;43m=\u001b[39;49m\u001b[43mstop\u001b[49m\u001b[43m,\u001b[49m\u001b[43m \u001b[49m\u001b[43mrun_manager\u001b[49m\u001b[38;5;241;43m=\u001b[39;49m\u001b[43mrun_manager\u001b[49m\u001b[43m,\u001b[49m\u001b[43m \u001b[49m\u001b[38;5;241;43m*\u001b[39;49m\u001b[38;5;241;43m*\u001b[39;49m\u001b[43mkwargs\u001b[49m\n\u001b[0;32m    853\u001b[0m \u001b[43m        \u001b[49m\u001b[43m)\u001b[49m\n\u001b[0;32m    854\u001b[0m     \u001b[38;5;28;01melse\u001b[39;00m:\n\u001b[0;32m    855\u001b[0m         result \u001b[38;5;241m=\u001b[39m \u001b[38;5;28mself\u001b[39m\u001b[38;5;241m.\u001b[39m_generate(messages, stop\u001b[38;5;241m=\u001b[39mstop, \u001b[38;5;241m*\u001b[39m\u001b[38;5;241m*\u001b[39mkwargs)\n",
      "File \u001b[1;32md:\\dev\\PyATS\\.venv\\Lib\\site-packages\\langchain_ollama\\chat_models.py:701\u001b[0m, in \u001b[0;36mChatOllama._generate\u001b[1;34m(self, messages, stop, run_manager, **kwargs)\u001b[0m\n\u001b[0;32m    694\u001b[0m \u001b[38;5;28;01mdef\u001b[39;00m \u001b[38;5;21m_generate\u001b[39m(\n\u001b[0;32m    695\u001b[0m     \u001b[38;5;28mself\u001b[39m,\n\u001b[0;32m    696\u001b[0m     messages: List[BaseMessage],\n\u001b[1;32m   (...)\u001b[0m\n\u001b[0;32m    699\u001b[0m     \u001b[38;5;241m*\u001b[39m\u001b[38;5;241m*\u001b[39mkwargs: Any,\n\u001b[0;32m    700\u001b[0m ) \u001b[38;5;241m-\u001b[39m\u001b[38;5;241m>\u001b[39m ChatResult:\n\u001b[1;32m--> 701\u001b[0m     final_chunk \u001b[38;5;241m=\u001b[39m \u001b[38;5;28;43mself\u001b[39;49m\u001b[38;5;241;43m.\u001b[39;49m\u001b[43m_chat_stream_with_aggregation\u001b[49m\u001b[43m(\u001b[49m\n\u001b[0;32m    702\u001b[0m \u001b[43m        \u001b[49m\u001b[43mmessages\u001b[49m\u001b[43m,\u001b[49m\u001b[43m \u001b[49m\u001b[43mstop\u001b[49m\u001b[43m,\u001b[49m\u001b[43m \u001b[49m\u001b[43mrun_manager\u001b[49m\u001b[43m,\u001b[49m\u001b[43m \u001b[49m\u001b[43mverbose\u001b[49m\u001b[38;5;241;43m=\u001b[39;49m\u001b[38;5;28;43mself\u001b[39;49m\u001b[38;5;241;43m.\u001b[39;49m\u001b[43mverbose\u001b[49m\u001b[43m,\u001b[49m\u001b[43m \u001b[49m\u001b[38;5;241;43m*\u001b[39;49m\u001b[38;5;241;43m*\u001b[39;49m\u001b[43mkwargs\u001b[49m\n\u001b[0;32m    703\u001b[0m \u001b[43m    \u001b[49m\u001b[43m)\u001b[49m\n\u001b[0;32m    704\u001b[0m     generation_info \u001b[38;5;241m=\u001b[39m final_chunk\u001b[38;5;241m.\u001b[39mgeneration_info\n\u001b[0;32m    705\u001b[0m     chat_generation \u001b[38;5;241m=\u001b[39m ChatGeneration(\n\u001b[0;32m    706\u001b[0m         message\u001b[38;5;241m=\u001b[39mAIMessage(\n\u001b[0;32m    707\u001b[0m             content\u001b[38;5;241m=\u001b[39mfinal_chunk\u001b[38;5;241m.\u001b[39mtext,\n\u001b[1;32m   (...)\u001b[0m\n\u001b[0;32m    711\u001b[0m         generation_info\u001b[38;5;241m=\u001b[39mgeneration_info,\n\u001b[0;32m    712\u001b[0m     )\n",
      "File \u001b[1;32md:\\dev\\PyATS\\.venv\\Lib\\site-packages\\langchain_ollama\\chat_models.py:602\u001b[0m, in \u001b[0;36mChatOllama._chat_stream_with_aggregation\u001b[1;34m(self, messages, stop, run_manager, verbose, **kwargs)\u001b[0m\n\u001b[0;32m    593\u001b[0m \u001b[38;5;28;01mdef\u001b[39;00m \u001b[38;5;21m_chat_stream_with_aggregation\u001b[39m(\n\u001b[0;32m    594\u001b[0m     \u001b[38;5;28mself\u001b[39m,\n\u001b[0;32m    595\u001b[0m     messages: List[BaseMessage],\n\u001b[1;32m   (...)\u001b[0m\n\u001b[0;32m    599\u001b[0m     \u001b[38;5;241m*\u001b[39m\u001b[38;5;241m*\u001b[39mkwargs: Any,\n\u001b[0;32m    600\u001b[0m ) \u001b[38;5;241m-\u001b[39m\u001b[38;5;241m>\u001b[39m ChatGenerationChunk:\n\u001b[0;32m    601\u001b[0m     final_chunk \u001b[38;5;241m=\u001b[39m \u001b[38;5;28;01mNone\u001b[39;00m\n\u001b[1;32m--> 602\u001b[0m \u001b[43m    \u001b[49m\u001b[38;5;28;43;01mfor\u001b[39;49;00m\u001b[43m \u001b[49m\u001b[43mstream_resp\u001b[49m\u001b[43m \u001b[49m\u001b[38;5;129;43;01min\u001b[39;49;00m\u001b[43m \u001b[49m\u001b[38;5;28;43mself\u001b[39;49m\u001b[38;5;241;43m.\u001b[39;49m\u001b[43m_create_chat_stream\u001b[49m\u001b[43m(\u001b[49m\u001b[43mmessages\u001b[49m\u001b[43m,\u001b[49m\u001b[43m \u001b[49m\u001b[43mstop\u001b[49m\u001b[43m,\u001b[49m\u001b[43m \u001b[49m\u001b[38;5;241;43m*\u001b[39;49m\u001b[38;5;241;43m*\u001b[39;49m\u001b[43mkwargs\u001b[49m\u001b[43m)\u001b[49m\u001b[43m:\u001b[49m\n\u001b[0;32m    603\u001b[0m \u001b[43m        \u001b[49m\u001b[38;5;28;43;01mif\u001b[39;49;00m\u001b[43m \u001b[49m\u001b[38;5;129;43;01mnot\u001b[39;49;00m\u001b[43m \u001b[49m\u001b[38;5;28;43misinstance\u001b[39;49m\u001b[43m(\u001b[49m\u001b[43mstream_resp\u001b[49m\u001b[43m,\u001b[49m\u001b[43m \u001b[49m\u001b[38;5;28;43mstr\u001b[39;49m\u001b[43m)\u001b[49m\u001b[43m:\u001b[49m\n\u001b[0;32m    604\u001b[0m \u001b[43m            \u001b[49m\u001b[43mchunk\u001b[49m\u001b[43m \u001b[49m\u001b[38;5;241;43m=\u001b[39;49m\u001b[43m \u001b[49m\u001b[43mChatGenerationChunk\u001b[49m\u001b[43m(\u001b[49m\n\u001b[0;32m    605\u001b[0m \u001b[43m                \u001b[49m\u001b[43mmessage\u001b[49m\u001b[38;5;241;43m=\u001b[39;49m\u001b[43mAIMessageChunk\u001b[49m\u001b[43m(\u001b[49m\n\u001b[0;32m    606\u001b[0m \u001b[43m                    \u001b[49m\u001b[43mcontent\u001b[49m\u001b[38;5;241;43m=\u001b[39;49m\u001b[43m(\u001b[49m\n\u001b[1;32m   (...)\u001b[0m\n\u001b[0;32m    619\u001b[0m \u001b[43m                \u001b[49m\u001b[43m)\u001b[49m\u001b[43m,\u001b[49m\n\u001b[0;32m    620\u001b[0m \u001b[43m            \u001b[49m\u001b[43m)\u001b[49m\n",
      "File \u001b[1;32md:\\dev\\PyATS\\.venv\\Lib\\site-packages\\langchain_ollama\\chat_models.py:589\u001b[0m, in \u001b[0;36mChatOllama._create_chat_stream\u001b[1;34m(self, messages, stop, **kwargs)\u001b[0m\n\u001b[0;32m    586\u001b[0m chat_params \u001b[38;5;241m=\u001b[39m \u001b[38;5;28mself\u001b[39m\u001b[38;5;241m.\u001b[39m_chat_params(messages, stop, \u001b[38;5;241m*\u001b[39m\u001b[38;5;241m*\u001b[39mkwargs)\n\u001b[0;32m    588\u001b[0m \u001b[38;5;28;01mif\u001b[39;00m chat_params[\u001b[38;5;124m\"\u001b[39m\u001b[38;5;124mstream\u001b[39m\u001b[38;5;124m\"\u001b[39m]:\n\u001b[1;32m--> 589\u001b[0m     \u001b[38;5;28;01myield from\u001b[39;00m \u001b[38;5;28mself\u001b[39m\u001b[38;5;241m.\u001b[39m_client\u001b[38;5;241m.\u001b[39mchat(\u001b[38;5;241m*\u001b[39m\u001b[38;5;241m*\u001b[39mchat_params)\n\u001b[0;32m    590\u001b[0m \u001b[38;5;28;01melse\u001b[39;00m:\n\u001b[0;32m    591\u001b[0m     \u001b[38;5;28;01myield\u001b[39;00m \u001b[38;5;28mself\u001b[39m\u001b[38;5;241m.\u001b[39m_client\u001b[38;5;241m.\u001b[39mchat(\u001b[38;5;241m*\u001b[39m\u001b[38;5;241m*\u001b[39mchat_params)\n",
      "File \u001b[1;32md:\\dev\\PyATS\\.venv\\Lib\\site-packages\\ollama\\_client.py:167\u001b[0m, in \u001b[0;36mClient._request.<locals>.inner\u001b[1;34m()\u001b[0m\n\u001b[0;32m    165\u001b[0m \u001b[38;5;28;01mexcept\u001b[39;00m httpx\u001b[38;5;241m.\u001b[39mHTTPStatusError \u001b[38;5;28;01mas\u001b[39;00m e:\n\u001b[0;32m    166\u001b[0m   e\u001b[38;5;241m.\u001b[39mresponse\u001b[38;5;241m.\u001b[39mread()\n\u001b[1;32m--> 167\u001b[0m   \u001b[38;5;28;01mraise\u001b[39;00m ResponseError(e\u001b[38;5;241m.\u001b[39mresponse\u001b[38;5;241m.\u001b[39mtext, e\u001b[38;5;241m.\u001b[39mresponse\u001b[38;5;241m.\u001b[39mstatus_code) \u001b[38;5;28;01mfrom\u001b[39;00m \u001b[38;5;28;01mNone\u001b[39;00m\n\u001b[0;32m    169\u001b[0m \u001b[38;5;28;01mfor\u001b[39;00m line \u001b[38;5;129;01min\u001b[39;00m r\u001b[38;5;241m.\u001b[39miter_lines():\n\u001b[0;32m    170\u001b[0m   part \u001b[38;5;241m=\u001b[39m json\u001b[38;5;241m.\u001b[39mloads(line)\n",
      "\u001b[1;31mResponseError\u001b[0m: llama runner process has terminated: exit status 2"
     ]
    }
   ],
   "source": [
    "from langchain_ollama import ChatOllama\n",
    "\n",
    "llm = ChatOllama(\n",
    "    model = \"llama3.2\",\n",
    "    temperature = 0,\n",
    ")\n",
    "\n",
    "messages = [\n",
    "    (\"human\", \"Create 5 question-answer pairs for a short-answer quiz in JSON format with keys “question“,”answer” solely from the following information —-Introduction This book was written to explore the powerful capabilities of automated network test- ing with the Cisco pyATS framework. Network testing and validation is a low-risk, yet powerful domain in the network automation space. This book is organized to address the multiple features of pyATS and the pyATS library (Genie). Readers will learn why network testing and validation are important, how pyATS can be leveraged to run tests against network devices, and how to integrate pyATS into larger workflows using CI/CD pipelines and artificial intelligence (AI).---\"),\n",
    "]\n",
    "response = llm.invoke(messages).content\n",
    "print(response)"
   ]
  },
  {
   "cell_type": "code",
   "execution_count": 16,
   "metadata": {},
   "outputs": [
    {
     "data": {
      "text/plain": [
       "'Infrastructure as Code\\n One of the first breakthroughs for NetDevOps was the widespread adoption of what \\nhas become known as infrastructure as code (IaC). Elements of infrastructure, like the \\nnetwork, are defined in structured data like YAML Ain’t Markup Language (YAML) \\nand JavaScript Object Notation (JSON) as well as configurations delivered with Python, \\nRESTful APIs, or traditional CLI commands abstracted as code elements. Treating infra\\nstructure as code enables NetDevOps and the application of software development prac\\ntices like Agile to traditional waterfall network lifecycles. pyATS is an implementation of \\nIaC allowing NetDevOps to use Python to program solutions for the network.\\n Test-Driven Development\\n By using a Python library and treating the infrastructure as code, not only can \\nNetDevOps be applied and Agile principles enacted, but other software development \\npractices can be utilized to maximize IaC quality, including an approach known as test\\ndriven development (TDD). Testing is built into the process as requirements are broken \\ndown into small units known as test cases. Instead of building a full product and then \\ntesting it, testing occurs during the development cycle, where each unit is tested, and \\nfinally all tests are executed against the whole product. This approach fits very well with \\nNetDevOps, and pyATS in particular, as network requirements can be broken down into \\nconsumable-sized test cases, developed and configured, and then tested for quality. TDD \\nencourages simple designs and, according to Kent Beck, who is credited with developing \\nthe technique, “inspires confidence” in developers'"
      ]
     },
     "execution_count": 16,
     "metadata": {},
     "output_type": "execute_result"
    }
   ],
   "source": [
    "content = '''Infrastructure as Code\n",
    " One of the first breakthroughs for NetDevOps was the widespread adoption of what \n",
    "has become known as infrastructure as code (IaC). Elements of infrastructure, like the \n",
    "network, are defined in structured data like YAML Ain’t Markup Language (YAML) \n",
    "and JavaScript Object Notation (JSON) as well as configurations delivered with Python, \n",
    "RESTful APIs, or traditional CLI commands abstracted as code elements. Treating infra\n",
    "structure as code enables NetDevOps and the application of software development prac\n",
    "tices like Agile to traditional waterfall network lifecycles. pyATS is an implementation of \n",
    "IaC allowing NetDevOps to use Python to program solutions for the network.\n",
    " Test-Driven Development\n",
    " By using a Python library and treating the infrastructure as code, not only can \n",
    "NetDevOps be applied and Agile principles enacted, but other software development \n",
    "practices can be utilized to maximize IaC quality, including an approach known as test\n",
    "driven development (TDD). Testing is built into the process as requirements are broken \n",
    "down into small units known as test cases. Instead of building a full product and then \n",
    "testing it, testing occurs during the development cycle, where each unit is tested, and \n",
    "finally all tests are executed against the whole product. This approach fits very well with \n",
    "NetDevOps, and pyATS in particular, as network requirements can be broken down into \n",
    "consumable-sized test cases, developed and configured, and then tested for quality. TDD \n",
    "encourages simple designs and, according to Kent Beck, who is credited with developing \n",
    "the technique, “inspires confidence” in developers'''\n",
    "\n",
    "content"
   ]
  },
  {
   "cell_type": "code",
   "execution_count": 17,
   "metadata": {},
   "outputs": [
    {
     "name": "stdout",
     "output_type": "stream",
     "text": [
      "Here are the 5 question-answer pairs in JSON format:\n",
      "\n",
      "```\n",
      "[\n",
      "    {\n",
      "        \"question\": \"What has become known as infrastructure as code (IaC) in NetDevOps?\",\n",
      "        \"answer\": \"Elements of infrastructure, like the network, defined in structured data\"\n",
      "    },\n",
      "    {\n",
      "        \"question\": \"Which software development practices can be utilized to maximize IaC quality?\",\n",
      "        \"answer\": \"Software development practices like Agile and Test-Driven Development (TDD)\"\n",
      "    },\n",
      "    {\n",
      "        \"question\": \"What is an approach known as test-driven development (TDD) in the context of NetDevOps?\",\n",
      "        \"answer\": \"Testing built into the process where requirements are broken down into small units\"\n",
      "    },\n",
      "    {\n",
      "        \"question\": \"How does TDD encourage designs in NetDevOps?\",\n",
      "        \"answer\": \"Simple designs, according to Kent Beck, who developed the technique\"\n",
      "    },\n",
      "    {\n",
      "        \"question\": \"What is pyATS used for in NetDevOps?\",\n",
      "        \"answer\": \"Programming solutions for the network using Python\"\n",
      "    }\n",
      "]\n",
      "```\n",
      "\n",
      "[\n",
      "    {\n",
      "        \"question\": \"What has become known as infrastructure as code (IaC) in NetDevOps?\",\n",
      "        \"answer\": \"Elements of infrastructure, like the network, defined in structured data\"\n",
      "    },\n",
      "    {\n",
      "        \"question\": \"Which software development practices can be utilized to maximize IaC quality?\",\n",
      "        \"answer\": \"Software development practices like Agile and Test-Driven Development (TDD)\"\n",
      "    },\n",
      "    {\n",
      "        \"question\": \"What is an approach known as test-driven development (TDD) in the context of NetDevOps?\",\n",
      "        \"answer\": \"Testing built into the process where requirements are broken down into small units\"\n",
      "    },\n",
      "    {\n",
      "        \"question\": \"How does TDD encourage designs in NetDevOps?\",\n",
      "        \"answer\": \"Simple designs, according to Kent Beck, who developed the technique\"\n",
      "    },\n",
      "    {\n",
      "        \"question\": \"What is pyATS used for in NetDevOps?\",\n",
      "        \"answer\": \"Programming solutions for the network using Python\"\n",
      "    }\n",
      "]\n",
      "\n",
      "<class 'list'>\n",
      "[{'question': 'What has become known as infrastructure as code (IaC) in NetDevOps?', 'answer': 'Elements of infrastructure, like the network, defined in structured data'}, {'question': 'Which software development practices can be utilized to maximize IaC quality?', 'answer': 'Software development practices like Agile and Test-Driven Development (TDD)'}, {'question': 'What is an approach known as test-driven development (TDD) in the context of NetDevOps?', 'answer': 'Testing built into the process where requirements are broken down into small units'}, {'question': 'How does TDD encourage designs in NetDevOps?', 'answer': 'Simple designs, according to Kent Beck, who developed the technique'}, {'question': 'What is pyATS used for in NetDevOps?', 'answer': 'Programming solutions for the network using Python'}]\n"
     ]
    }
   ],
   "source": [
    "from langchain_ollama import ChatOllama\n",
    "import json\n",
    "\n",
    "# get question-answer pairs from the provided content using llama 3.2\n",
    "llm = ChatOllama(\n",
    "    model = \"llama3.2\",\n",
    "    temperature = 0,\n",
    ")\n",
    "\n",
    "messages = [\n",
    "    (\"human\", f\"Create 5 question-answer pairs for a short-answer quiz in JSON format with keys “question“,”answer” solely from the following information —-{content}---\"),\n",
    "]\n",
    "response = llm.invoke(messages).content\n",
    "print(response)\n",
    "\n",
    "# split response string to get only the question and answer parts of the response\n",
    "test = response.split(\"```\")\n",
    "print(test[1])\n",
    "\n",
    "# convert string to  object\n",
    "json_object = json.loads(test[1])\n",
    "\n",
    "# print the output\n",
    "print(type(json_object))\n",
    "print(json_object)"
   ]
  },
  {
   "cell_type": "code",
   "execution_count": 21,
   "metadata": {},
   "outputs": [
    {
     "data": {
      "text/plain": [
       "[{'question': 'What has become known as infrastructure as code (IaC) in NetDevOps?',\n",
       "  'answer': 'Elements of infrastructure, like the network, defined in structured data'},\n",
       " {'question': 'Which software development practices can be utilized to maximize IaC quality?',\n",
       "  'answer': 'Software development practices like Agile and Test-Driven Development (TDD)'},\n",
       " {'question': 'What is an approach known as test-driven development (TDD) in the context of NetDevOps?',\n",
       "  'answer': 'Testing built into the process where requirements are broken down into small units'},\n",
       " {'question': 'How does TDD encourage designs in NetDevOps?',\n",
       "  'answer': 'Simple designs, according to Kent Beck, who developed the technique'},\n",
       " {'question': 'What is pyATS used for in NetDevOps?',\n",
       "  'answer': 'Programming solutions for the network using Python'}]"
      ]
     },
     "execution_count": 21,
     "metadata": {},
     "output_type": "execute_result"
    }
   ],
   "source": [
    "json_object"
   ]
  },
  {
   "cell_type": "code",
   "execution_count": 22,
   "metadata": {},
   "outputs": [
    {
     "name": "stdout",
     "output_type": "stream",
     "text": [
      "Here are five question-answer pairs for a short-answer quiz in JSON format:\n",
      "\n",
      "```\n",
      "[\n",
      "    {\n",
      "        \"question\": \"What is known as a key element of French style?\",\n",
      "        \"answer\": \"Relaxed, playful, and effortless\"\n",
      "    },\n",
      "    {\n",
      "        \"question\": \"Which type of jeans are commonly worn by women in France?\",\n",
      "        \"answer\": \"Dark denim or black jeans\"\n",
      "    },\n",
      "    {\n",
      "        \"question\": \"What can add sophistication to a look in French style?\",\n",
      "        \"answer\": \"A blazer\"\n",
      "    },\n",
      "    {\n",
      "        \"question\": \"How should statement pieces be balanced in French style?\",\n",
      "        \"answer\": \"With more muted options\"\n",
      "    },\n",
      "    {\n",
      "        \"question\": \"Which colors are common in French style?\",\n",
      "        \"answer\": \"Black and neutral colors\"\n",
      "    }\n",
      "]\n",
      "```\n",
      "\n",
      "[\n",
      "    {\n",
      "        \"question\": \"What is known as a key element of French style?\",\n",
      "        \"answer\": \"Relaxed, playful, and effortless\"\n",
      "    },\n",
      "    {\n",
      "        \"question\": \"Which type of jeans are commonly worn by women in France?\",\n",
      "        \"answer\": \"Dark denim or black jeans\"\n",
      "    },\n",
      "    {\n",
      "        \"question\": \"What can add sophistication to a look in French style?\",\n",
      "        \"answer\": \"A blazer\"\n",
      "    },\n",
      "    {\n",
      "        \"question\": \"How should statement pieces be balanced in French style?\",\n",
      "        \"answer\": \"With more muted options\"\n",
      "    },\n",
      "    {\n",
      "        \"question\": \"Which colors are common in French style?\",\n",
      "        \"answer\": \"Black and neutral colors\"\n",
      "    }\n",
      "]\n",
      "\n",
      "<class 'list'>\n",
      "[{'question': 'What is known as a key element of French style?', 'answer': 'Relaxed, playful, and effortless'}, {'question': 'Which type of jeans are commonly worn by women in France?', 'answer': 'Dark denim or black jeans'}, {'question': 'What can add sophistication to a look in French style?', 'answer': 'A blazer'}, {'question': 'How should statement pieces be balanced in French style?', 'answer': 'With more muted options'}, {'question': 'Which colors are common in French style?', 'answer': 'Black and neutral colors'}]\n"
     ]
    }
   ],
   "source": [
    "from langchain_ollama import ChatOllama\n",
    "import json\n",
    "\n",
    "# get question-answer pairs from the provided content using llama 3.2\n",
    "llm = ChatOllama(\n",
    "    model = \"llama3.2\",\n",
    "    temperature = 0,\n",
    ")\n",
    "\n",
    "messages = [\n",
    "    (\"human\", \"Create 5 question-answer pairs for a short-answer quiz in JSON format with keys “question“,”answer” solely from the following information —-French style is known for being relaxed, playful, and effortless, while still being sophisticated. Here are some tips for dressing in French style: Choose classic pieces Tailored blazers, crisp white shirts, Breton stripes, high-waisted jeans, and little black dresses are all staples that can be dressed up or down.  Balance statement pieces Pair statement pieces with more muted options to keep the look cohesive. For example, you could pair dramatic sleeves with a tawny brown top.  Wear a blazer Blazers can add sophistication to a look and can be worn for both casual and formal occasions.  Wear dark jeans Women in France often opt for dark denim or black jeans in a skinny, straight leg, or vintage style.  Wear a cardigan A cardigan is a light piece of clothing that can be worn under coats in the winter or tied around the shoulders in the spring.  The French tend to choose items that they can wear daily, no matter the occasion. Wear black and neutral colors Black and neutral colors are common in French style. ---\"),\n",
    "]\n",
    "response = llm.invoke(messages).content\n",
    "print(response)\n",
    "\n",
    "# split response string to get only the question and answer parts of the response\n",
    "test = response.split(\"```\")\n",
    "print(test[1])\n",
    "\n",
    "# convert string to  object\n",
    "json_object2 = json.loads(test[1])\n",
    "\n",
    "# print the output\n",
    "print(type(json_object2))\n",
    "print(json_object2)"
   ]
  },
  {
   "cell_type": "code",
   "execution_count": 33,
   "metadata": {},
   "outputs": [],
   "source": [
    "output = []\n",
    "output.extend(json_object)\n",
    "output\n",
    "output.extend(json_object2)"
   ]
  },
  {
   "cell_type": "code",
   "execution_count": 35,
   "metadata": {},
   "outputs": [
    {
     "data": {
      "text/plain": [
       "[{'question': 'What has become known as infrastructure as code (IaC) in NetDevOps?',\n",
       "  'answer': 'Elements of infrastructure, like the network, defined in structured data'},\n",
       " {'question': 'Which software development practices can be utilized to maximize IaC quality?',\n",
       "  'answer': 'Software development practices like Agile and Test-Driven Development (TDD)'},\n",
       " {'question': 'What is an approach known as test-driven development (TDD) in the context of NetDevOps?',\n",
       "  'answer': 'Testing built into the process where requirements are broken down into small units'},\n",
       " {'question': 'How does TDD encourage designs in NetDevOps?',\n",
       "  'answer': 'Simple designs, according to Kent Beck, who developed the technique'},\n",
       " {'question': 'What is pyATS used for in NetDevOps?',\n",
       "  'answer': 'Programming solutions for the network using Python'},\n",
       " {'question': 'What is known as a key element of French style?',\n",
       "  'answer': 'Relaxed, playful, and effortless'},\n",
       " {'question': 'Which type of jeans are commonly worn by women in France?',\n",
       "  'answer': 'Dark denim or black jeans'},\n",
       " {'question': 'What can add sophistication to a look in French style?',\n",
       "  'answer': 'A blazer'},\n",
       " {'question': 'How should statement pieces be balanced in French style?',\n",
       "  'answer': 'With more muted options'},\n",
       " {'question': 'Which colors are common in French style?',\n",
       "  'answer': 'Black and neutral colors'}]"
      ]
     },
     "execution_count": 35,
     "metadata": {},
     "output_type": "execute_result"
    }
   ],
   "source": [
    "len(output)\n",
    "output"
   ]
  },
  {
   "cell_type": "code",
   "execution_count": 41,
   "metadata": {},
   "outputs": [],
   "source": [
    "final_output = [{'question': 'What is the main focus of this book?', 'answer': 'To explore the powerful capabilities of automated network testing with the Cisco pyATS framework.'}, {'question': 'Why is network testing and validation considered a low-risk domain?', 'answer': 'Because it is a low-risk, yet powerful domain in the network automation space.'}, {'question': 'What will readers learn from this book?', 'answer': 'How pyATS can be leveraged to run tests against network devices, and how to integrate pyATS into larger workflows using CI/CD pipelines and AI.'}, {'question': 'What is the purpose of the pyATS library (Genie)?', 'answer': 'Not explicitly stated in the provided text'}, {'question': 'What tools or technologies will be used to integrate pyATS into larger workflows?', 'answer': 'CI/CD pipelines and artificial intelligence (AI)'}, {'question': 'Who is the intended audience for this book?', 'answer': 'Network professionals and software developers'}, {'question': 'What programming language is pyATS built on?', 'answer': 'Python'}, {'question': 'What is the focus of this book in terms of network automation?', 'answer': 'Device configuration, data parsing, APIs, parallel programming, artificial intelligence, and automated network testing'}, {'question': 'Who can benefit from learning pyATS as it relates to the Cisco DevNet Expert Lab exam?', 'answer': 'Candidates looking to learn pyATS'}, {'question': 'What is the recommended skill level for readers of this book?', 'answer': 'Comfortable with Python'}, {'question': 'What is the main topic of Chapter 1?', 'answer': 'NetDevOps'}, {'question': 'How to install and upgrade pyATS?', 'answer': 'Using Python package management tools and built-in pyATS commands'}, {'question': 'What is a testbed in the context of this book?', 'answer': 'A collection of devices connected together for testing purposes'}, {'question': 'What is covered in Chapter 3?', 'answer': 'YAML basics, device connection abstractions, and methods for testbed validation'}, {'question': 'What is the focus of Chapter 2?', 'answer': 'Installing and upgrading pyATS'}, {'question': 'What is the main focus of Chapter 4?', 'answer': 'This chapter reviews the different components that make up AEtest, the testing infrastructure that is the core of pyATS.'}, {'question': 'What topics are covered in this chapter?', 'answer': 'Defining testcases and individual test sections, running testscripts'}, {'question': 'What can be achieved by reading this chapter?', 'answer': 'Understanding how to introduce test inputs and parameters, define test sections, control the flow of test execution, and review test results with built-in reporting features.'}, {'question': 'Who is the author of the book?', 'answer': 'ptg45047941'}, {'question': 'Where can you find this chapter?', 'answer': 'From the Library of Tos Chaiwong'}, {'question': 'What is the focus of Chapter 5?', 'answer': 'Vendor-neutral automation strategies'}, {'question': 'What does Chapter 6 cover?', 'answer': 'Test-Driven Development (TDD) and its application in network automation'}, {'question': 'What is the main topic of pyATS learn and parse features?', 'answer': 'Vendor-neutral automation strategies'}, {'question': 'What skills are covered in Chapter 5?', 'answer': 'Effective network data handling'}, {'question': 'What framework is explored in Chapter 6?', 'answer': 'pyATS'}]"
   ]
  },
  {
   "cell_type": "code",
   "execution_count": 45,
   "metadata": {},
   "outputs": [
    {
     "data": {
      "text/plain": [
       "{'question': 'What framework is explored in Chapter 6?', 'answer': 'pyATS'}"
      ]
     },
     "execution_count": 45,
     "metadata": {},
     "output_type": "execute_result"
    }
   ],
   "source": [
    "final_output[24]"
   ]
  }
 ],
 "metadata": {
  "kernelspec": {
   "display_name": ".venv",
   "language": "python",
   "name": "python3"
  },
  "language_info": {
   "codemirror_mode": {
    "name": "ipython",
    "version": 3
   },
   "file_extension": ".py",
   "mimetype": "text/x-python",
   "name": "python",
   "nbconvert_exporter": "python",
   "pygments_lexer": "ipython3",
   "version": "3.12.6"
  }
 },
 "nbformat": 4,
 "nbformat_minor": 2
}
